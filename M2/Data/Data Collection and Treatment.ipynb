{
 "cells": [
  {
   "cell_type": "code",
   "execution_count": 41,
   "metadata": {},
   "outputs": [],
   "source": [
    "import pandas as pd\n",
    "import matplotlib.pyplot as plt\n",
    "import numpy as np\n",
    "import re\n",
    "%matplotlib inline"
   ]
  },
  {
   "cell_type": "code",
   "execution_count": 42,
   "metadata": {},
   "outputs": [],
   "source": [
    "#Read datda\n",
    "def read_table(path=None, headers= [0], rows=[0]):\n",
    "    if path:\n",
    "        for i,v in enumerate(rows):\n",
    "            if i>0:\n",
    "                new = pd.read_excel(path, header=headers[i], nrows=rows[i])\n",
    "                dataset = pd.concat([dataset,new])\n",
    "            else:\n",
    "                dataset = pd.read_excel(path, header=headers[i], nrows=rows[i])   \n",
    "        return dataset\n",
    "\n",
    "    \n",
    "#Clean table columns \n",
    "def clean_cols(dataset=None, todropna=False, level=None):\n",
    "    ''' \n",
    "    dataset: Enter dataframe name.\n",
    "    todropna: boolean, if True drop columns which has all their values as empty.\n",
    "    level: int, to decide which level of header to keep. If the dataframe does not have MultiIndex, keep it as default.\n",
    "    '''\n",
    "    if type(level)==int:\n",
    "        #dataset.drop(dataset.columns[-1], axis=1, inplace= True)\n",
    "        dataset.columns = dataset.columns.get_level_values(level)\n",
    "        dataset.drop(dataset.columns[-1], axis=1, inplace= True)\n",
    "    if todropna:\n",
    "        dataset.dropna(how='all', axis=1, inplace=True)\n",
    "\n",
    "        \n",
    "\n",
    "def clean_rows(dataset= None, index_col=None, init_index_col_val= 'الكتب والمجلات', cntrl_col= None, valu_col= None, remove_totl=True, row_fltr_txt= 'مجموع'):\n",
    "    dataset[index_col] = np.where(pd.isna(dataset[cntrl_col]), dataset[valu_col].str.strip(), None)\n",
    "    if pd.isnull(dataset[index_col].iloc[0]):\n",
    "        dataset[index_col].iloc[0] = init_index_col_val\n",
    "    dataset[index_col].fillna(method='ffill', inplace= True)\n",
    "    if remove_totl:\n",
    "        dataset = dataset[~dataset[valu_col].str.contains(row_fltr_txt, na=False)]\n",
    "    dataset = dataset[pd.notnull(dataset[cntrl_col])]"
   ]
  },
  {
   "cell_type": "code",
   "execution_count": 43,
   "metadata": {},
   "outputs": [
    {
     "name": "stderr",
     "output_type": "stream",
     "text": [
      "E:\\Anaconda3\\lib\\site-packages\\pandas\\core\\indexing.py:205: SettingWithCopyWarning: \n",
      "A value is trying to be set on a copy of a slice from a DataFrame\n",
      "\n",
      "See the caveats in the documentation: http://pandas.pydata.org/pandas-docs/stable/user_guide/indexing.html#returning-a-view-versus-a-copy\n",
      "  self._setitem_with_indexer(indexer, value)\n"
     ]
    }
   ],
   "source": [
    "#2007 Data\n",
    "\n",
    "pub_2007 = read_table(path= r'2007/Table3-49.xls', headers= [[6,7], [65,66], [124,125], [189,190], [255,256], [318,319]], \n",
    "          rows= [49, 49, 55, 56, 53, 47])\n",
    "clean_cols(dataset= pub_2007, todropna=True, level=0)\n",
    "clean_rows(dataset= pub_2007, index_col='القطاعات', init_index_col_val= None, \n",
    "           cntrl_col= 'المنتظمون', valu_col= 'البرامج', remove_totl=True,  row_fltr_txt= 'مجموع')\n",
    "pub_2007 = pub_2007[~pub_2007['البرامج'].str.contains('مجموع')]\n",
    "pub_2007 = pub_2007[pd.notnull(pub_2007['المنتظمون'])]\n",
    "pub_2007.rename(columns= {'الناجحون': 'المجتازون', 'نسبة النجاح':'نسبة المجتازين'}, inplace=True)\n",
    "\n",
    "\n",
    "\n",
    "privt_2007 = read_table(path= r'2007/Table3-50.xls', headers= [[6,7]], rows= [38])\n",
    "clean_cols(dataset= privt_2007, todropna=True, level=0)\n",
    "clean_rows(dataset= privt_2007, index_col='القطاعات', init_index_col_val= None, \n",
    "           cntrl_col= 'المنتظمون', valu_col= 'البرامج', remove_totl=True,  row_fltr_txt= 'مجموع')\n",
    "privt_2007 = privt_2007[~privt_2007['البرامج'].str.contains('مجموع')]\n",
    "privt_2007 = privt_2007[pd.notnull(privt_2007['المنتظمون'])]\n",
    "privt_2007.rename(columns= {'الناجحون': 'المجتازون', 'نسبة النجاح':'نسبة المجتازين'}, inplace=True)\n",
    "\n",
    "\n",
    "\n",
    "pappp_2007 = read_table(path= r'2007/Table3-51.xls', headers= [[6,7]], rows= [23])\n",
    "clean_cols(dataset= pappp_2007, todropna=True, level=0)\n",
    "clean_rows(dataset= pappp_2007, index_col='القطاعات', init_index_col_val= None, \n",
    "           cntrl_col= 'المنتظمون', valu_col= 'البرامج', remove_totl=True,  row_fltr_txt= 'مجموع')\n",
    "pappp_2007 = pappp_2007[~pappp_2007['البرامج'].str.contains('مجموع')]\n",
    "pappp_2007 = pappp_2007[pd.notnull(pappp_2007['المنتظمون'])]\n",
    "\n",
    "\n",
    "\n",
    "\n",
    "pappv_2007 = read_table(path= r'2007/Table3-52.xls', headers= [[6,7]], rows= [9])\n",
    "clean_cols(dataset= pappv_2007, todropna=True, level=0)\n",
    "clean_rows(dataset= pappv_2007, index_col='القطاعات', init_index_col_val= None, \n",
    "           cntrl_col= 'المنتظمون', valu_col= 'البرامج', remove_totl=True,  row_fltr_txt= 'مجموع')\n",
    "pappv_2007 = pappv_2007[~pappv_2007['البرامج'].str.contains('مجموع')]\n",
    "pappv_2007 = pappv_2007[pd.notnull(pappv_2007['المنتظمون'])]\n",
    "papp_2007 = pd.concat([pappp_2007.drop('القطاعات', axis=1), pappv_2007.drop('القطاعات', axis=1)], \n",
    "                      keys=['أ- البرامج الإعدادية العامة:', 'ب- البرامج الإعدادية الخاصة:'])\n",
    "papp_2007 = papp_2007.reset_index().drop('level_1', axis=1)\n",
    "papp_2007.rename(columns={'الناجحون':'الخريجون', 'level_0':'القطاعات'}, inplace=True)\n",
    "\n",
    "\n",
    "libdoc_2007 = read_table(path= r'2007/Table3-53.xls', headers= [[6,7]], rows= [17])\n",
    "clean_cols(dataset= libdoc_2007, todropna=True, level=1)\n",
    "clean_rows(dataset= libdoc_2007, index_col='تصنيف المواد', init_index_col_val= 'الكتب والمجلات', \n",
    "           cntrl_col= 'العدد Number', valu_col= 'المواد المضافة', remove_totl=True,  row_fltr_txt= 'مجموع')\n",
    "libdoc_2007 = libdoc_2007[~libdoc_2007['المواد المضافة'].str.contains('مجموع')]\n",
    "libdoc_2007 = libdoc_2007[pd.notnull(libdoc_2007['العدد Number'])]"
   ]
  },
  {
   "cell_type": "code",
   "execution_count": 44,
   "metadata": {},
   "outputs": [],
   "source": [
    "#2008 Data\n",
    "\n",
    "pub_2008 = read_table(path= r'2008/Table3-37.xls', headers= [[6,7], [63,64], [121,122], [186,187], [257,258], [319,320]], \n",
    "          rows= [47, 48, 55, 61, 52, 46])\n",
    "clean_cols(dataset= pub_2008, todropna=True, level=0)\n",
    "clean_rows(dataset= pub_2008, index_col='القطاعات', init_index_col_val= None, \n",
    "           cntrl_col= 'المنتظمون', valu_col= 'البرامج', remove_totl=True,  row_fltr_txt= 'مجموع')\n",
    "pub_2008 = pub_2008[~pub_2008['البرامج'].str.contains('مجموع')]\n",
    "pub_2008 = pub_2008[pd.notnull(pub_2008['المنتظمون'])]\n",
    "pub_2008.rename(columns= {'الناجحون': 'المجتازون', 'نسبة النجاح':'نسبة المجتازين'}, inplace=True)\n",
    "\n",
    "\n",
    "\n",
    "privt_2008 = read_table(path= r'2008/Table3-38.xls', headers= [[6,7]], rows= [32])\n",
    "clean_cols(dataset= privt_2008, todropna=True, level=0)\n",
    "clean_rows(dataset= privt_2008, index_col='القطاعات', init_index_col_val= None, \n",
    "           cntrl_col= 'المنتظمون', valu_col= 'البرامج', remove_totl=True,  row_fltr_txt= 'مجموع')\n",
    "privt_2008 = privt_2008[~privt_2008['البرامج'].str.contains('مجموع')]\n",
    "privt_2008 = privt_2008[pd.notnull(privt_2008['المنتظمون'])]\n",
    "privt_2008.rename(columns= {'الناجحون': 'المجتازون', 'نسبة النجاح':'نسبة المجتازين'}, inplace=True)\n",
    "\n",
    "\n",
    "papp_2008 = read_table(path= r'2008/Table3-39.xls', headers= [[6,7]], rows= [18])\n",
    "clean_cols(dataset= papp_2008, todropna=True, level=0)\n",
    "clean_rows(dataset= papp_2008, index_col='القطاعات', init_index_col_val= None, \n",
    "           cntrl_col= 'المنتظمون', valu_col= 'البرامج', remove_totl=True,  row_fltr_txt= 'مجموع')\n",
    "papp_2008 = papp_2008[~papp_2008['البرامج'].str.contains('مجموع')]\n",
    "papp_2008 = papp_2008[pd.notnull(papp_2008['المنتظمون'])]\n",
    "papp_2008.rename(columns={'الناجحون':'الخريجون'}, inplace=True)\n",
    "\n",
    "\n",
    "\n",
    "libdoc_2008 = read_table(path= r'2008/Table3-40.xls', headers= [[6,7]], rows= [16])\n",
    "clean_cols(dataset= libdoc_2008, todropna=True, level=1)\n",
    "clean_rows(dataset= libdoc_2008, index_col='تصنيف المواد', init_index_col_val= 'الكتب والمجلات', \n",
    "           cntrl_col= 'العدد Number', valu_col= 'المواد المضافة', remove_totl=True,  row_fltr_txt= 'مجموع')\n",
    "libdoc_2008 = libdoc_2008[~libdoc_2008['المواد المضافة'].str.contains('مجموع')]\n",
    "libdoc_2008 = libdoc_2008[pd.notnull(libdoc_2008['العدد Number'])]"
   ]
  },
  {
   "cell_type": "code",
   "execution_count": 45,
   "metadata": {},
   "outputs": [],
   "source": [
    "#2009 Data\n",
    "\n",
    "pub_2009 = read_table(path= r'2009/Table3-40.xls', headers= [[6,7], [63,64], [119,120], [186,187], [250,251], [313,314]], \n",
    "          rows= [47, 46, 57, 54, 53, 40])\n",
    "clean_cols(dataset= pub_2009, todropna=True, level=0)\n",
    "clean_rows(dataset= pub_2009, index_col='القطاعات', init_index_col_val= None, \n",
    "           cntrl_col= 'المنتظمون', valu_col= 'البرامج', remove_totl=True,  row_fltr_txt= 'مجموع')\n",
    "pub_2009 = pub_2009[~pub_2009['البرامج'].str.contains('مجموع')]\n",
    "pub_2009 = pub_2009[pd.notnull(pub_2009['المنتظمون'])]\n",
    "pub_2009.rename(columns= {'الناجحون': 'المجتازون', 'نسبة النجاح':'نسبة المجتازين'}, inplace=True)\n",
    "\n",
    "\n",
    "\n",
    "privt_2009 = read_table(path= r'2009/Table3-41.xls', headers= [[6,7]], rows= [40])\n",
    "clean_cols(dataset= privt_2009, todropna=True, level=0)\n",
    "clean_rows(dataset= privt_2009, index_col='القطاعات', init_index_col_val= None, \n",
    "           cntrl_col= 'المنتظمون', valu_col= 'البرامج', remove_totl=True,  row_fltr_txt= 'مجموع')\n",
    "privt_2009 = privt_2009[~privt_2009['البرامج'].str.contains('مجموع')]\n",
    "privt_2009 = privt_2009[pd.notnull(privt_2009['المنتظمون'])]\n",
    "privt_2009.rename(columns= {'الناجحون': 'المجتازون', 'نسبة النجاح':'نسبة المجتازين'}, inplace=True)\n",
    "\n",
    "\n",
    "papp_2009 = read_table(path= r'2009/Table3-42.xls', headers= [[6,7]], rows= [18])\n",
    "clean_cols(dataset= papp_2009, todropna=True, level=0)\n",
    "clean_rows(dataset= papp_2009, index_col='القطاعات', init_index_col_val= None, \n",
    "           cntrl_col= 'المنتظمون', valu_col= 'البرامج', remove_totl=True,  row_fltr_txt= 'مجموع')\n",
    "papp_2009 = papp_2009[~papp_2009['البرامج'].str.contains('مجموع')]\n",
    "papp_2009 = papp_2009[pd.notnull(papp_2009['المنتظمون'])]\n",
    "papp_2009.rename(columns={'الناجحون':'الخريجون'}, inplace=True)\n",
    "\n",
    "\n",
    "libdoc_2009 = read_table(path= r'2009/Table3-43.xls', headers= [[6,7]], rows= [16])\n",
    "clean_cols(dataset= libdoc_2009, todropna=True, level=1)\n",
    "clean_rows(dataset= libdoc_2009, index_col='تصنيف المواد', init_index_col_val= 'الكتب والمجلات', \n",
    "           cntrl_col= 'العدد Number', valu_col= 'المواد المضافة', remove_totl=True,  row_fltr_txt= 'مجموع')\n",
    "libdoc_2009 = libdoc_2009[~libdoc_2009['المواد المضافة'].str.contains('مجموع')]\n",
    "libdoc_2009 = libdoc_2009[pd.notnull(libdoc_2009['العدد Number'])]"
   ]
  },
  {
   "cell_type": "code",
   "execution_count": 46,
   "metadata": {},
   "outputs": [],
   "source": [
    "#2010 Data\n",
    "\n",
    "pub_2010 = read_table(path= r'2010/Table3-43.xls', headers= [[6,7], [62,63], [118,119], [183,184], [238,239], [295,296]], \n",
    "          rows= [46, 46, 55, 45, 47, 38])\n",
    "clean_cols(dataset= pub_2010, todropna=True, level=0)\n",
    "clean_rows(dataset= pub_2010, index_col='القطاعات', init_index_col_val= None, \n",
    "           cntrl_col= 'المنتظمون', valu_col= 'البرامج', remove_totl=True,  row_fltr_txt= 'مجموع')\n",
    "pub_2010 = pub_2010[~pub_2010['البرامج'].str.contains('مجموع')]\n",
    "pub_2010 = pub_2010[pd.notnull(pub_2010['المنتظمون'])]\n",
    "pub_2010.rename(columns= {'الناجحون': 'المجتازون', 'نسبة النجاح':'نسبة المجتازين'}, inplace=True)\n",
    "\n",
    "\n",
    "\n",
    "privt_2010 = read_table(path= r'2010/Table3-44.xls', headers= [[6,7], [49,50]], rows= [35, 29])\n",
    "clean_cols(dataset= privt_2010, todropna=True, level=0)\n",
    "clean_rows(dataset= privt_2010, index_col='القطاعات', init_index_col_val= None, \n",
    "           cntrl_col= 'المنتظمون', valu_col= 'البرامج', remove_totl=True,  row_fltr_txt= 'مجموع')\n",
    "privt_2010 = privt_2010[~privt_2010['البرامج'].str.contains('مجموع')]\n",
    "privt_2010 = privt_2010[pd.notnull(privt_2010['المنتظمون'])]\n",
    "privt_2010.rename(columns= {'الناجحون': 'المجتازون', 'نسبة النجاح':'نسبة المجتازين'}, inplace=True)\n",
    "\n",
    "\n",
    "papp_2010 = read_table(path= r'2010/Table3-45.xls', headers= [[6,7]], rows= [21])\n",
    "clean_cols(dataset= papp_2010, todropna=True, level=0)\n",
    "clean_rows(dataset= papp_2010, index_col='القطاعات', init_index_col_val= None, \n",
    "           cntrl_col= 'المنتظمون', valu_col= 'البرامج', remove_totl=True,  row_fltr_txt= 'مجموع')\n",
    "papp_2010 = papp_2010[~papp_2010['البرامج'].str.contains('مجموع')]\n",
    "papp_2010 = papp_2010[pd.notnull(papp_2010['المنتظمون'])]\n",
    "papp_2010.rename(columns={'الناجحون':'الخريجون'}, inplace=True)\n",
    "\n",
    "\n",
    "libdoc_2010 = read_table(path= r'2010/Table3-46.xls', headers= [[6,7]], rows= [16])\n",
    "clean_cols(dataset= libdoc_2010, todropna=True, level=1)\n",
    "clean_rows(dataset= libdoc_2010, index_col='تصنيف المواد', init_index_col_val= 'الكتب والمجلات', \n",
    "           cntrl_col= 'العدد Number', valu_col= 'المواد المضافة', remove_totl=True,  row_fltr_txt= 'مجموع')\n",
    "libdoc_2010 = libdoc_2010[~libdoc_2010['المواد المضافة'].str.contains('مجموع')]\n",
    "libdoc_2010 = libdoc_2010[pd.notnull(libdoc_2010['العدد Number'])]"
   ]
  },
  {
   "cell_type": "code",
   "execution_count": 47,
   "metadata": {},
   "outputs": [],
   "source": [
    "#2011 Data\n",
    "\n",
    "pub_2011 = read_table(path= r'2011/Table3-47.xls', headers= [[6,7], [46,47], [101,102], [152,153], [204,205], [242,243], [296,297]], \n",
    "          rows= [31, 46, 42, 43, 29, 45, 37])\n",
    "clean_cols(dataset= pub_2011, todropna=True, level=0)\n",
    "clean_rows(dataset= pub_2011, index_col='القطاعات', init_index_col_val= None, \n",
    "           cntrl_col= 'المنتظمون', valu_col= 'البرامج', remove_totl=True,  row_fltr_txt= 'مجموع')\n",
    "pub_2011 = pub_2011[~pub_2011['البرامج'].str.contains('مجموع')]\n",
    "pub_2011 = pub_2011[pd.notnull(pub_2011['المنتظمون'])]\n",
    "\n",
    "\n",
    "\n",
    "privt_2011 = read_table(path= r'2011/Table3-48.xls', headers= [[6,7], [47,48]], rows= [32, 36])\n",
    "clean_cols(dataset= privt_2011, todropna=True, level=0)\n",
    "clean_rows(dataset= privt_2011, index_col='القطاعات', init_index_col_val= None, \n",
    "           cntrl_col= 'المنتظمون', valu_col= 'البرامج', remove_totl=True,  row_fltr_txt= 'مجموع')\n",
    "privt_2011 = privt_2011[~privt_2011['البرامج'].str.contains('مجموع')]\n",
    "privt_2011 = privt_2011[pd.notnull(privt_2011['المنتظمون'])]\n",
    "\n",
    "\n",
    "papp_2011 = read_table(path= r'2011/Table3-49.xls', headers= [[6,7]], rows= [22])\n",
    "clean_cols(dataset= papp_2011, todropna=True, level=0)\n",
    "clean_rows(dataset= papp_2011, index_col='القطاعات', init_index_col_val= None, \n",
    "           cntrl_col= 'المنتظمون', valu_col= 'البرامج', remove_totl=True,  row_fltr_txt= 'مجموع')\n",
    "papp_2011 = papp_2011[~papp_2011['البرامج'].str.contains('مجموع')]\n",
    "papp_2011 = papp_2011[pd.notnull(papp_2011['المنتظمون'])]\n",
    "\n",
    "\n",
    "libdoc_2011 = read_table(path= r'2011/Table3-50.xls', headers= [[6,7]], rows= [16])\n",
    "clean_cols(dataset= libdoc_2011, todropna=True, level=1)\n",
    "clean_rows(dataset= libdoc_2011, index_col='تصنيف المواد', init_index_col_val= 'الكتب والمجلات', \n",
    "           cntrl_col= 'العدد Number', valu_col= 'المواد المضافة', remove_totl=True,  row_fltr_txt= 'مجموع')\n",
    "libdoc_2011 = libdoc_2011[~libdoc_2011['المواد المضافة'].str.contains('مجموع')]\n",
    "libdoc_2011 = libdoc_2011[pd.notnull(libdoc_2011['العدد Number'])]"
   ]
  },
  {
   "cell_type": "code",
   "execution_count": 48,
   "metadata": {},
   "outputs": [],
   "source": [
    "#2012 Data\n",
    "\n",
    "pub_2012 = read_table(path= r'2012/Table3-47.xlsx', headers= [[6,7]], \n",
    "          rows= [248])\n",
    "clean_cols(dataset= pub_2012, todropna=True, level=0)\n",
    "clean_rows(dataset= pub_2012, index_col='القطاعات', init_index_col_val= None, \n",
    "           cntrl_col= 'المنتظمون', valu_col= 'البرامج', remove_totl=True,  row_fltr_txt= 'مجموع')\n",
    "pub_2012 = pub_2012[~pub_2012['البرامج'].str.contains('مجموع')]\n",
    "pub_2012 = pub_2012[pd.notnull(pub_2012['المنتظمون'])]\n",
    "\n",
    "\n",
    "\n",
    "privt_2012 = read_table(path= r'2012/Table3-48.xls', headers= [[6,7]], rows= [67])\n",
    "clean_cols(dataset= privt_2012, todropna=True, level=0)\n",
    "clean_rows(dataset= privt_2012, index_col='القطاعات', init_index_col_val= None, \n",
    "           cntrl_col= 'المنتظمون', valu_col= 'البرامج', remove_totl=True,  row_fltr_txt= 'مجموع')\n",
    "privt_2012 = privt_2012[~privt_2012['البرامج'].str.contains('مجموع')]\n",
    "privt_2012 = privt_2012[pd.notnull(privt_2012['المنتظمون'])]\n",
    "\n",
    "\n",
    "papp_2012 = read_table(path= r'2012/Table3-49.xls', headers= [[6,7]], rows= [20])\n",
    "clean_cols(dataset= papp_2012, todropna=True, level=0)\n",
    "clean_rows(dataset= papp_2012, index_col='القطاعات', init_index_col_val= None, \n",
    "           cntrl_col= 'المنتظمون', valu_col= 'البرامج', remove_totl=True,  row_fltr_txt= 'مجموع')\n",
    "papp_2012 = papp_2012[~papp_2012['البرامج'].str.contains('مجموع')]\n",
    "papp_2012 = papp_2012[pd.notnull(papp_2012['المنتظمون'])]\n",
    "\n",
    "\n",
    "libdoc_2012 = read_table(path= r'2012/Table3-50.xls', headers= [[6,7]], rows= [16])\n",
    "clean_cols(dataset= libdoc_2012, todropna=True, level=1)\n",
    "clean_rows(dataset= libdoc_2012, index_col='تصنيف المواد', init_index_col_val= 'الكتب والمجلات', \n",
    "           cntrl_col= 'العدد Number', valu_col= 'المواد المضافة', remove_totl=True,  row_fltr_txt= 'مجموع')\n",
    "libdoc_2012 = libdoc_2012[~libdoc_2012['المواد المضافة'].str.contains('مجموع')]\n",
    "libdoc_2012 = libdoc_2012[pd.notnull(libdoc_2012['العدد Number'])]"
   ]
  },
  {
   "cell_type": "code",
   "execution_count": 49,
   "metadata": {},
   "outputs": [],
   "source": [
    "#2013 Data\n",
    "\n",
    "pub_2013 = read_table(path= r'2013/20-3.xlsx', headers= [[5,6]], rows= [251])\n",
    "clean_cols(dataset= pub_2013, todropna=True, level=0)\n",
    "clean_rows(dataset= pub_2013, index_col='القطاعات', init_index_col_val= None, \n",
    "           cntrl_col= 'المنتظمون', valu_col= 'البرامج', remove_totl=True,  row_fltr_txt= 'مجموع')\n",
    "pub_2013 = pub_2013[~pub_2013['البرامج'].str.contains('مجموع', na=False)]\n",
    "pub_2013 = pub_2013[pd.notnull(pub_2013['المنتظمون'])]\n",
    "pub_2013.rename(columns= {'الناجحون': 'المجتازون', 'نسبة النجاح':'نسبة المجتازين'}, inplace=True)\n",
    "\n",
    "\n",
    "\n",
    "privt_2013 = read_table(path= r'2013/21-3.xlsx', headers= [[5,6]], rows= [60])\n",
    "clean_cols(dataset= privt_2013, todropna=True, level=0)\n",
    "clean_rows(dataset= privt_2013, index_col='القطاعات', init_index_col_val= None, \n",
    "           cntrl_col= 'المنتظمون', valu_col= 'البرامج', remove_totl=True,  row_fltr_txt= 'مجموع')\n",
    "privt_2013 = privt_2013[~privt_2013['البرامج'].str.contains('مجموع')]\n",
    "privt_2013 = privt_2013[pd.notnull(privt_2013['المنتظمون'])]\n",
    "\n",
    "\n",
    "papp_2013 = read_table(path= r'2013/22-3.xlsx', headers= [[5,6]], rows= [18])\n",
    "clean_cols(dataset= papp_2013, todropna=True, level=0)\n",
    "clean_rows(dataset= papp_2013, index_col='القطاعات', init_index_col_val= None, \n",
    "           cntrl_col= 'المنتظمون', valu_col= 'البرامج', remove_totl=True,  row_fltr_txt= 'مجموع')\n",
    "papp_2013 = papp_2013[~papp_2013['البرامج'].str.contains('مجموع')]\n",
    "papp_2013 = papp_2013[pd.notnull(papp_2013['المنتظمون'])]\n",
    "\n",
    "\n",
    "libdoc_2013 = read_table(path= r'2013/23-3.xlsx', headers= [[5,6]], rows= [14])\n",
    "clean_cols(dataset= libdoc_2013, todropna=True, level=1)\n",
    "clean_rows(dataset= libdoc_2013, index_col='تصنيف المواد', init_index_col_val= 'الكتب والمجلات', \n",
    "           cntrl_col= 'العدد Number', valu_col= 'المواد المضافة', remove_totl=True,  row_fltr_txt= 'مجموع')\n",
    "libdoc_2013 = libdoc_2013[~libdoc_2013['المواد المضافة'].str.contains('مجموع')]\n",
    "libdoc_2013 = libdoc_2013[pd.notnull(libdoc_2013['العدد Number'])]\n",
    "\n",
    "\n",
    "bus_2013 = read_table(path= r'2013/24-3.xlsx', headers= [[5,6]], rows= [69])\n",
    "clean_cols(dataset= bus_2013, todropna=True, level=0)\n",
    "clean_rows(dataset= bus_2013, index_col='القطاعات', init_index_col_val= None, \n",
    "           cntrl_col= 'المنتظمون', valu_col= 'البرامج', remove_totl=True,  row_fltr_txt= 'مجموع')\n",
    "bus_2013 = bus_2013[~bus_2013['البرامج'].str.contains('مجموع', na=False)]\n",
    "bus_2013 = bus_2013[pd.notnull(bus_2013['المنتظمون'])]"
   ]
  },
  {
   "cell_type": "code",
   "execution_count": 50,
   "metadata": {},
   "outputs": [],
   "source": [
    "#2014 Data\n",
    "\n",
    "pub_2014 = read_table(path= r'2014/20-3.xlsx', headers= [[5,6]], rows= [243])\n",
    "clean_cols(dataset= pub_2014, todropna=True, level=0)\n",
    "clean_rows(dataset= pub_2014, index_col='القطاعات', init_index_col_val= None, \n",
    "           cntrl_col= 'المنتظمون', valu_col= 'البرامج', remove_totl=True,  row_fltr_txt= 'مجموع')\n",
    "pub_2014 = pub_2014[~pub_2014['البرامج'].str.contains('مجموع', na=False)]\n",
    "pub_2014 = pub_2014[pd.notnull(pub_2014['المنتظمون'])]\n",
    "\n",
    "\n",
    "privt_2014 = read_table(path= r'2014/21-3.xlsx', headers= [[5,6]], rows= [60])\n",
    "clean_cols(dataset= privt_2014, todropna=True, level=0)\n",
    "clean_rows(dataset= privt_2014, index_col='القطاعات', init_index_col_val= None, \n",
    "           cntrl_col= 'المنتظمون', valu_col= 'البرامج', remove_totl=True,  row_fltr_txt= 'مجموع')\n",
    "privt_2014 = privt_2014[~privt_2014['البرامج'].str.contains('مجموع')]\n",
    "privt_2014 = privt_2014[pd.notnull(privt_2014['المنتظمون'])]\n",
    "\n",
    "\n",
    "papp_2014 = read_table(path= r'2014/22-3.xlsx', headers= [[5,6]], rows= [25])\n",
    "clean_cols(dataset= papp_2014, todropna=True, level=0)\n",
    "clean_rows(dataset= papp_2014, index_col='القطاعات', init_index_col_val= None, \n",
    "           cntrl_col= 'المنتظمون', valu_col= 'البرامج', remove_totl=True,  row_fltr_txt= 'مجموع')\n",
    "papp_2014 = papp_2014[~papp_2014['البرامج'].str.contains('مجموع')]\n",
    "papp_2014 = papp_2014[pd.notnull(papp_2014['المنتظمون'])]\n",
    "\n",
    "\n",
    "\n",
    "libdoc_2014 = read_table(path= r'2014/23-3.xlsx', headers= [[5,6]], rows= [14])\n",
    "clean_cols(dataset= libdoc_2014, todropna=True, level=1)\n",
    "clean_rows(dataset= libdoc_2014, index_col='تصنيف المواد', init_index_col_val= 'الكتب والمجلات', \n",
    "           cntrl_col= 'العدد Number', valu_col= 'المواد المضافة', remove_totl=True,  row_fltr_txt= 'مجموع')\n",
    "libdoc_2014 = libdoc_2014[~libdoc_2014['المواد المضافة'].str.contains('مجموع')]\n",
    "libdoc_2014 = libdoc_2014[pd.notnull(libdoc_2014['العدد Number'])]\n",
    "\n",
    "\n",
    "bus_2014 = read_table(path= r'2014/24-3.xlsx', headers= [[5,6]], rows= [82])\n",
    "clean_cols(dataset= bus_2014, todropna=True, level=0)\n",
    "clean_rows(dataset= bus_2014, index_col='القطاعات', init_index_col_val= None, \n",
    "           cntrl_col= 'المنتظمون', valu_col= 'البرامج', remove_totl=True,  row_fltr_txt= 'مجموع')\n",
    "bus_2014 = bus_2014[~bus_2014['البرامج'].str.contains('مجموع', na=False)]\n",
    "bus_2014 = bus_2014[pd.notnull(bus_2014['المنتظمون'])]"
   ]
  },
  {
   "cell_type": "code",
   "execution_count": 51,
   "metadata": {},
   "outputs": [],
   "source": [
    "#2015 Data\n",
    "\n",
    "pub_2015 = read_table(path= r'2015/20-3.xlsx', headers= [[3,4]], rows= [247])\n",
    "clean_cols(dataset= pub_2015, todropna=True, level=0)\n",
    "clean_rows(dataset= pub_2015, index_col='القطاعات', init_index_col_val= None, \n",
    "           cntrl_col= 'المنتظمون', valu_col= 'البرامج', remove_totl=True,  row_fltr_txt= 'مجموع')\n",
    "pub_2015 = pub_2015[~pub_2015['البرامج'].str.contains('مجموع', na=False)]\n",
    "pub_2015 = pub_2015[pd.notnull(pub_2015['المنتظمون'])]\n",
    "\n",
    "\n",
    "privt_2015 = read_table(path= r'2015/21-3.xlsx', headers= [[4,5]], rows= [67])\n",
    "clean_cols(dataset= privt_2015, todropna=True, level=0)\n",
    "clean_rows(dataset= privt_2015, index_col='القطاعات', init_index_col_val= None, \n",
    "           cntrl_col= 'المنتظمون', valu_col= 'البرامج', remove_totl=True,  row_fltr_txt= 'مجموع')\n",
    "privt_2015 = privt_2015[~privt_2015['البرامج'].str.contains('مجموع', na=False)]\n",
    "privt_2015 = privt_2015[pd.notnull(privt_2015['المنتظمون'])]\n",
    "\n",
    "\n",
    "papp_2015 = read_table(path= r'2015/22-3.xlsx', headers= [[4,5]], rows= [32])\n",
    "clean_cols(dataset= papp_2015, todropna=True, level=0)\n",
    "clean_rows(dataset= papp_2015, index_col='القطاعات', init_index_col_val= None, \n",
    "           cntrl_col= 'المنتظمون', valu_col= 'البرامج', remove_totl=True,  row_fltr_txt= 'مجموع')\n",
    "papp_2015 = papp_2015[~papp_2015['البرامج'].str.contains('مجموع', na=False)]\n",
    "papp_2015 = papp_2015[pd.notnull(papp_2015['المنتظمون'])]\n",
    "\n",
    "\n",
    "libdoc_2015 = read_table(path= r'2015/23-3.xlsx', headers= [[4,5]], rows= [17])\n",
    "clean_cols(dataset= libdoc_2015, todropna=True, level=1)\n",
    "clean_rows(dataset= libdoc_2015, index_col='تصنيف المواد', init_index_col_val= 'الكتب والمجلات', \n",
    "           cntrl_col= 'العدد Number', valu_col= 'المواد المضافة', remove_totl=True,  row_fltr_txt= 'مجموع')\n",
    "libdoc_2015 = libdoc_2015[~libdoc_2015['المواد المضافة'].str.contains('مجموع', na=False)]\n",
    "libdoc_2015 = libdoc_2015[pd.notnull(libdoc_2015['العدد Number'])]\n",
    "\n",
    "\n",
    "bus_2015 = read_table(path= r'2015/24-3.xlsx', headers= [[3,4]], rows= [84])\n",
    "clean_cols(dataset= bus_2015, todropna=True, level=0)\n",
    "clean_rows(dataset= bus_2015, index_col='القطاعات', init_index_col_val= None, \n",
    "           cntrl_col= 'المنتظمون', valu_col= 'البرامج', remove_totl=True,  row_fltr_txt= 'مجموع')\n",
    "bus_2015 = bus_2015[~bus_2015['البرامج'].str.contains('مجموع', na=False)]\n",
    "bus_2015 = bus_2015[pd.notnull(bus_2015['المنتظمون'])]"
   ]
  },
  {
   "cell_type": "code",
   "execution_count": 52,
   "metadata": {},
   "outputs": [],
   "source": [
    "#2016 Data\n",
    "\n",
    "pub_2016 = read_table(path= r'2016/20-3.xlsx', headers= [[4,5]], rows= [216])\n",
    "clean_cols(dataset= pub_2016, todropna=True, level=0)\n",
    "clean_rows(dataset= pub_2016, index_col='القطاعات', init_index_col_val= None, \n",
    "           cntrl_col= 'المنتظمون', valu_col= 'البرامج', remove_totl=True,  row_fltr_txt= 'مجموع')\n",
    "pub_2016 = pub_2016[~pub_2016['البرامج'].str.contains('مجموع', na=False)]\n",
    "pub_2016 = pub_2016[pd.notnull(pub_2016['المنتظمون'])]\n",
    "\n",
    "\n",
    "privt_2016 = read_table(path= r'2016/21-3.xlsx', headers= [[4,5]], rows= [24])\n",
    "clean_cols(dataset= privt_2016, todropna=True, level=0)\n",
    "clean_rows(dataset= privt_2016, index_col='القطاعات', init_index_col_val= None, \n",
    "           cntrl_col= 'المنتظمون', valu_col= 'البرامج', remove_totl=True,  row_fltr_txt= 'مجموع')\n",
    "privt_2016 = privt_2016[~privt_2016['البرامج'].str.contains('مجموع', na=False)]\n",
    "privt_2016 = privt_2016[pd.notnull(privt_2016['المنتظمون'])]\n",
    "\n",
    "\n",
    "papp_2016 = read_table(path= r'2016/22-3.xlsx', headers= [[2,3]], rows= [22])\n",
    "clean_cols(dataset= papp_2016, todropna=True, level=0)\n",
    "clean_rows(dataset= papp_2016, index_col='القطاعات', init_index_col_val= None, \n",
    "           cntrl_col= 'المنتظمون', valu_col= 'البرامج', remove_totl=True,  row_fltr_txt= 'مجموع')\n",
    "papp_2016 = papp_2016[~papp_2016['البرامج'].str.contains('مجموع', na=False)]\n",
    "papp_2016 = papp_2016[pd.notnull(papp_2016['المنتظمون'])]\n",
    "\n",
    "\n",
    "libdoc_2016 = read_table(path= r'2016/23-3.xlsx', headers= [[4,5]], rows= [17])\n",
    "clean_cols(dataset= libdoc_2016, todropna=True, level=1)\n",
    "clean_rows(dataset= libdoc_2016, index_col='تصنيف المواد', init_index_col_val= 'الكتب والمجلات', \n",
    "           cntrl_col= 'العدد Number', valu_col= 'المواد المضافة', remove_totl=True,  row_fltr_txt= 'مجموع')\n",
    "libdoc_2016 = libdoc_2016[~libdoc_2016['المواد المضافة'].str.contains('مجموع', na=False)]\n",
    "libdoc_2016 = libdoc_2016[pd.notnull(libdoc_2016['العدد Number'])]\n",
    "\n",
    "\n",
    "bus_2016 = read_table(path= r'2016/24-3.xlsx', headers= [[3,4]], rows= [55])\n",
    "clean_cols(dataset= bus_2016, todropna=True, level=0)\n",
    "clean_rows(dataset= bus_2016, index_col='القطاعات', init_index_col_val= None, \n",
    "           cntrl_col= 'المنتظمون', valu_col= 'البرامج', remove_totl=True,  row_fltr_txt= 'مجموع')\n",
    "bus_2016 = bus_2016[~bus_2016['البرامج'].str.contains('مجموع', na=False)]\n",
    "bus_2016 = bus_2016[pd.notnull(bus_2016['المنتظمون'])]"
   ]
  },
  {
   "cell_type": "code",
   "execution_count": 53,
   "metadata": {},
   "outputs": [],
   "source": [
    "#with pd.option_context(\"display.max_rows\", 1000): display(bus_2016)"
   ]
  },
  {
   "cell_type": "code",
   "execution_count": 54,
   "metadata": {},
   "outputs": [
    {
     "name": "stderr",
     "output_type": "stream",
     "text": [
      "E:\\Anaconda3\\lib\\site-packages\\ipykernel_launcher.py:28: FutureWarning: Sorting because non-concatenation axis is not aligned. A future version\n",
      "of pandas will change to not sort by default.\n",
      "\n",
      "To accept the future behavior, pass 'sort=False'.\n",
      "\n",
      "To retain the current behavior and silence the warning, pass 'sort=True'.\n",
      "\n"
     ]
    }
   ],
   "source": [
    "# Data Concatenation\n",
    "\n",
    "pub = pd.concat([pub_2007, pub_2008, pub_2009, pub_2010, pub_2011, pub_2012, pub_2013, pub_2014, pub_2015, pub_2016],\n",
    "         keys = [2007, 2008, 2009, 2010, 2011, 2012, 2013, 2014, 2015, 2016], sort=False)\n",
    "pub = pub.reset_index().drop('level_1', axis=1).rename(columns={'level_0': 'السنة'})\n",
    "pub['القطاعات'] = (pub['القطاعات']).str.replace(u'\\xa0', ' ')\n",
    "\n",
    "\n",
    "privt = pd.concat([privt_2007, privt_2008, privt_2009, privt_2010, privt_2011, privt_2012, privt_2013, privt_2014, \n",
    "                   privt_2015, privt_2016], keys = [2007, 2008, 2009, 2010, 2011, 2012, 2013, 2014, 2015, 2016], sort=False)\n",
    "privt = privt.reset_index().drop('level_1', axis=1).rename(columns={'level_0': 'السنة'})\n",
    "\n",
    "\n",
    "papp = pd.concat([papp_2007, papp_2008, papp_2009, papp_2010, papp_2011, papp_2012, papp_2013, papp_2014, \n",
    "                   papp_2015, papp_2016], keys = [2007, 2008, 2009, 2010, 2011, 2012, 2013, 2014, 2015, 2016], sort=False)\n",
    "papp = papp.reset_index().drop('level_1', axis=1).rename(columns={'level_0': 'السنة'})\n",
    "\n",
    "libdoc = pd.concat([libdoc_2007, libdoc_2008, libdoc_2009, libdoc_2010, libdoc_2011, libdoc_2012, libdoc_2013, libdoc_2014, \n",
    "                   libdoc_2015, libdoc_2016], keys = [2007, 2008, 2009, 2010, 2011, 2012, 2013, 2014, 2015, 2016], sort=False)\n",
    "libdoc = libdoc.reset_index().drop('level_1', axis=1).rename(columns={'level_0': 'السنة'})\n",
    "libdoc.rename(columns={'العدد Number':'العدد'},inplace=True)\n",
    "\n",
    "bus = pd.concat([bus_2013, bus_2014, bus_2015, bus_2016], keys = [2013, 2014, 2015, 2016], sort=False)\n",
    "bus = bus.reset_index().drop('level_1', axis=1).rename(columns={'level_0': 'السنة'})\n",
    "bus['القطاعات'] = (bus['القطاعات']).str.replace(u'\\xa0', ' ')\n",
    "\n",
    "\n",
    "allsectors = pd.concat([pub, privt, bus, papp], keys= ['تدريب عام', 'تدريب خاص', 'تدريب مركز الأعمال', 'البرامج الإعدادية'])\n",
    "allsectors = allsectors.reset_index().drop('level_1', axis=1).rename(columns={'level_0':'نوع التدريب'})"
   ]
  },
  {
   "cell_type": "raw",
   "metadata": {
    "jupyter": {
     "outputs_hidden": true
    }
   },
   "source": [
    "# Save data as excel sheets\n",
    "\n",
    "with pd.ExcelWriter('output\\IPA Achievments.xlsx', engine='xlsxwriter') as writer:\n",
    "    allsectors.to_excel(writer, sheet_name= 'All Training by Sector', index=False)\n",
    "    pub.to_excel(writer, sheet_name= 'public In-Service Training', index=False)\n",
    "    privt.to_excel(writer, sheet_name= 'private In-Service Training', index=False)\n",
    "    papp.to_excel(writer, sheet_name= 'preparatory Programs', index=False)\n",
    "    libdoc.to_excel(writer, sheet_name= 'Libs & Docs', index=False)\n",
    "    bus.to_excel(writer, sheet_name= 'Bus Cntr Training', index=False)"
   ]
  },
  {
   "cell_type": "markdown",
   "metadata": {},
   "source": [
    "## Verifying Headers and Categories"
   ]
  },
  {
   "cell_type": "code",
   "execution_count": 55,
   "metadata": {},
   "outputs": [
    {
     "name": "stdout",
     "output_type": "stream",
     "text": [
      "Index(['البرامج', 'المنتظمون', 'المجتازون', 'نسبة المجتازين', 'القطاعات'], dtype='object')\n",
      "Index(['البرامج', 'المنتظمون', 'المجتازون', 'نسبة المجتازين', 'القطاعات'], dtype='object')\n",
      "Index(['البرامج', 'المنتظمون', 'المجتازون', 'نسبة المجتازين', 'القطاعات'], dtype='object')\n",
      "Index(['البرامج', 'المنتظمون', 'المجتازون', 'نسبة المجتازين', 'القطاعات'], dtype='object')\n"
     ]
    }
   ],
   "source": [
    "for x in range(2013, 2017):\n",
    "    print(globals()['bus_%s' % x].columns)"
   ]
  },
  {
   "cell_type": "code",
   "execution_count": 56,
   "metadata": {},
   "outputs": [
    {
     "data": {
      "text/plain": [
       "array(['قطاع إدارة المواد:', 'قطاع الإحصاء:', 'قطاع الإدارة الصحية:',\n",
       "       'قطاع الإدارة العامة:', 'قطاع الإدارة المكتبية:',\n",
       "       'قطاع الإدارة الهندسية والمشروعات:', 'قطاع الموارد البشرية:',\n",
       "       'قطاع الحاسب الآلي:', 'قطاع السلوك التنظيمي:',\n",
       "       'قطاع العلاقات العامة والإعلام:', 'قطاع الإقتصاد والميزانية:',\n",
       "       'قطاع المحاسبة:', 'قطاع المكتبات والمعلومات:', 'قطاع القانون:',\n",
       "       'قطاع تقنية المعلومات:', 'قطاع المعلومات:'], dtype=object)"
      ]
     },
     "execution_count": 56,
     "metadata": {},
     "output_type": "execute_result"
    }
   ],
   "source": [
    "pub['القطاعات'].unique()"
   ]
  },
  {
   "cell_type": "code",
   "execution_count": 57,
   "metadata": {},
   "outputs": [
    {
     "data": {
      "text/plain": [
       "array(['قطاع الإدارة العامة:', 'قطاع الإدارة المكتبية:',\n",
       "       'قطاع الإدارة الهندسية والمشروعات:', 'قطاع الإقتصاد والميزانية:',\n",
       "       'قطاع الحاسب الآلي:', 'قطاع السلوك التنظيمي:', 'قطاع القانون:',\n",
       "       'قطاع المحاسبة:', 'قطاع الموارد البشرية:',\n",
       "       'قطاع العلاقات العامة والإعلام:', 'قطاع الإحصاء:',\n",
       "       'قطاع إدارة المواد:', 'قطاع الإدارة الصحية:'], dtype=object)"
      ]
     },
     "execution_count": 57,
     "metadata": {},
     "output_type": "execute_result"
    }
   ],
   "source": [
    "bus['القطاعات'].unique()"
   ]
  },
  {
   "cell_type": "code",
   "execution_count": 58,
   "metadata": {},
   "outputs": [
    {
     "name": "stdout",
     "output_type": "stream",
     "text": [
      "set()\n",
      "set()\n"
     ]
    }
   ],
   "source": [
    "print(set(pub['القطاعات']) - set(privt['القطاعات']))\n",
    "print(set(privt['القطاعات']) - set(pub['القطاعات']))"
   ]
  },
  {
   "cell_type": "code",
   "execution_count": 59,
   "metadata": {},
   "outputs": [
    {
     "name": "stdout",
     "output_type": "stream",
     "text": [
      "{'قطاع المكتبات والمعلومات:', 'قطاع المعلومات:', 'قطاع تقنية المعلومات:'}\n",
      "set()\n"
     ]
    }
   ],
   "source": [
    "print(set(pub['القطاعات']) - set(bus['القطاعات']))\n",
    "print(set(bus['القطاعات']) - set(pub['القطاعات']))"
   ]
  },
  {
   "cell_type": "code",
   "execution_count": 60,
   "metadata": {},
   "outputs": [
    {
     "name": "stdout",
     "output_type": "stream",
     "text": [
      "{'قطاع المكتبات والمعلومات:', 'قطاع المعلومات:', 'قطاع تقنية المعلومات:'}\n",
      "set()\n"
     ]
    }
   ],
   "source": [
    "print(set(privt['القطاعات']) - set(bus['القطاعات']))\n",
    "print(set(bus['القطاعات']) - set(privt['القطاعات']))"
   ]
  },
  {
   "cell_type": "code",
   "execution_count": 61,
   "metadata": {},
   "outputs": [
    {
     "data": {
      "text/plain": [
       "0.925444956475713"
      ]
     },
     "execution_count": 61,
     "metadata": {},
     "output_type": "execute_result"
    }
   ],
   "source": [
    "allsectors['المنتظمون'][allsectors['نوع التدريب']=='تدريب عام'].sum()/ allsectors['المنتظمون'].sum()"
   ]
  },
  {
   "cell_type": "code",
   "execution_count": 62,
   "metadata": {},
   "outputs": [
    {
     "name": "stdout",
     "output_type": "stream",
     "text": [
      "قطاع إدارة المواد: 4.441018783746102\n",
      "قطاع الإحصاء: 4.129223807954574\n",
      "قطاع الإدارة الصحية: 2.4392253289056756\n",
      "قطاع الإدارة العامة: 13.454555248548758\n",
      "قطاع الإدارة المكتبية: 25.549602017795124\n",
      "قطاع الإدارة الهندسية والمشروعات: 3.167539101117899\n",
      "قطاع الموارد البشرية: 7.820698877031103\n",
      "قطاع الحاسب الآلي: 5.733985652361277\n",
      "قطاع السلوك التنظيمي: 12.978307434915967\n",
      "قطاع العلاقات العامة والإعلام: 2.411182792973206\n",
      "قطاع الإقتصاد والميزانية: 1.8657000177444296\n",
      "قطاع المحاسبة: 7.7047263555476695\n",
      "قطاع المكتبات والمعلومات: 2.8728548252173693\n",
      "قطاع القانون: 4.147126669877563\n",
      "قطاع تقنية المعلومات: 1.0583284747395372\n",
      "قطاع المعلومات: 0.2259246115237395\n"
     ]
    }
   ],
   "source": [
    "for i in pub['القطاعات'].unique():\n",
    "    print(i, pub['المنتظمون'][pub['القطاعات']==i].sum()/pub['المنتظمون'].sum() * 100)"
   ]
  },
  {
   "cell_type": "code",
   "execution_count": 63,
   "metadata": {},
   "outputs": [
    {
     "name": "stdout",
     "output_type": "stream",
     "text": [
      "قطاع الإقتصاد والميزانية: 39.51763641845041\n",
      "قطاع الموارد البشرية: 2.2610792885137174\n",
      "قطاع السلوك التنظيمي: 14.036780223093157\n",
      "قطاع القانون: 14.097075670786854\n",
      "قطاع المحاسبة: 7.440458245402472\n",
      "قطاع الإدارة الصحية: 1.0009044317154054\n",
      "قطاع الإدارة الهندسية والمشروعات: 0.7838408200180885\n",
      "قطاع الحاسب الآلي: 0.9767862526379258\n",
      "قطاع الإدارة العامة: 12.511305396442568\n",
      "قطاع الإدارة المكتبية: 5.691890262285197\n",
      "قطاع إدارة المواد: 0.7416340066324992\n",
      "قطاع المكتبات والمعلومات: 0.0964727163099186\n",
      "قطاع العلاقات العامة والإعلام: 0.2411817907747965\n",
      "قطاع الإحصاء: 0.33162496231534516\n",
      "قطاع المعلومات: 0.12059089538739826\n",
      "قطاع تقنية المعلومات: 0.1507386192342478\n"
     ]
    }
   ],
   "source": [
    "for i in privt['القطاعات'].unique():\n",
    "    print(i, privt['المنتظمون'][privt['القطاعات']==i].sum()/privt['المنتظمون'].sum() * 100)"
   ]
  },
  {
   "cell_type": "code",
   "execution_count": 64,
   "metadata": {},
   "outputs": [
    {
     "name": "stdout",
     "output_type": "stream",
     "text": [
      "قطاع الإدارة العامة: 13.605648008068583\n",
      "قطاع الإدارة المكتبية: 28.875441250630356\n",
      "قطاع الإدارة الهندسية والمشروعات: 2.934947049924357\n",
      "قطاع الإقتصاد والميزانية: 0.13111447302067575\n",
      "قطاع الحاسب الآلي: 0.751386787695411\n",
      "قطاع السلوك التنظيمي: 44.76550680786687\n",
      "قطاع القانون: 2.783661119515885\n",
      "قطاع المحاسبة: 2.2541603630862332\n",
      "قطاع الموارد البشرية: 2.8240040342914776\n",
      "قطاع العلاقات العامة والإعلام: 0.4437720625315179\n",
      "قطاع الإحصاء: 0.11094301563287948\n",
      "قطاع إدارة المواد: 0.4185577407967726\n",
      "قطاع الإدارة الصحية: 0.10085728693898136\n"
     ]
    }
   ],
   "source": [
    "for i in bus['القطاعات'].unique():\n",
    "    print(i, bus['المنتظمون'][bus['القطاعات']==i].sum()/bus['المنتظمون'].sum() * 100)"
   ]
  },
  {
   "cell_type": "code",
   "execution_count": 65,
   "metadata": {},
   "outputs": [
    {
     "name": "stdout",
     "output_type": "stream",
     "text": [
      "قطاع الإدارة العامة: 13.605648008068583\n",
      "قطاع الإدارة المكتبية: 28.875441250630356\n",
      "قطاع الإدارة الهندسية والمشروعات: 2.934947049924357\n",
      "قطاع الإقتصاد والميزانية: 0.13111447302067575\n",
      "قطاع الحاسب الآلي: 0.751386787695411\n",
      "قطاع السلوك التنظيمي: 44.76550680786687\n",
      "قطاع القانون: 2.783661119515885\n",
      "قطاع المحاسبة: 2.2541603630862332\n",
      "قطاع الموارد البشرية: 2.8240040342914776\n",
      "قطاع العلاقات العامة والإعلام: 0.4437720625315179\n",
      "قطاع الإحصاء: 0.11094301563287948\n",
      "قطاع إدارة المواد: 0.4185577407967726\n",
      "قطاع الإدارة الصحية: 0.10085728693898136\n"
     ]
    }
   ],
   "source": [
    "for i in bus['القطاعات'].unique():\n",
    "    print(i, bus['المنتظمون'][bus['القطاعات']==i].sum()/bus['المنتظمون'].sum() * 100)"
   ]
  },
  {
   "cell_type": "markdown",
   "metadata": {},
   "source": [
    "## Performing Calculations"
   ]
  },
  {
   "cell_type": "code",
   "execution_count": 66,
   "metadata": {},
   "outputs": [
    {
     "data": {
      "text/plain": [
       "0.6432160804020101"
      ]
     },
     "execution_count": 66,
     "metadata": {},
     "output_type": "execute_result"
    }
   ],
   "source": [
    "# % of 2016 main sector joiners from same sectors in 2013 when the Center started working - This is to check the chage % in those sectors\n",
    "bus['المنتظمون'][bus['القطاعات'].isin(['قطاع السلوك التنظيمي:', 'قطاع الإدارة المكتبية:', 'قطاع الإدارة العامة:']) & (bus['السنة'] == 2016)].sum()/bus['المنتظمون'][bus['القطاعات'].isin(['قطاع السلوك التنظيمي:', 'قطاع الإدارة المكتبية:', 'قطاع الإدارة العامة:']) & (bus['السنة'] == 2013)].sum()"
   ]
  },
  {
   "cell_type": "code",
   "execution_count": 67,
   "metadata": {},
   "outputs": [
    {
     "data": {
      "text/plain": [
       "0.45947477800869074"
      ]
     },
     "execution_count": 67,
     "metadata": {},
     "output_type": "execute_result"
    }
   ],
   "source": [
    "# PCT change in 3 main sectors from previous year \n",
    "bus['المنتظمون'][bus['القطاعات'].isin(['قطاع السلوك التنظيمي:', 'قطاع الإدارة المكتبية:', 'قطاع الإدارة العامة:']) & (bus['السنة'] == 2016)].sum() / (bus['المنتظمون'][bus['القطاعات'].isin(['قطاع السلوك التنظيمي:', 'قطاع الإدارة المكتبية:', 'قطاع الإدارة العامة:']) & (bus['السنة'] == 2015)].sum())"
   ]
  },
  {
   "cell_type": "code",
   "execution_count": 68,
   "metadata": {},
   "outputs": [
    {
     "data": {
      "text/plain": [
       "0.45224262142691146"
      ]
     },
     "execution_count": 68,
     "metadata": {},
     "output_type": "execute_result"
    }
   ],
   "source": [
    "# PCT change in 2 main sectors from previous year \n",
    "bus['المنتظمون'][bus['القطاعات'].isin(['قطاع السلوك التنظيمي:', 'قطاع الإدارة المكتبية:']) & (bus['السنة'] == 2016)].sum() / (bus['المنتظمون'][bus['القطاعات'].isin(['قطاع السلوك التنظيمي:', 'قطاع الإدارة المكتبية:']) & (bus['السنة'] == 2015)].sum())"
   ]
  },
  {
   "cell_type": "code",
   "execution_count": 69,
   "metadata": {},
   "outputs": [
    {
     "data": {
      "text/plain": [
       "0.8811833171677983"
      ]
     },
     "execution_count": 69,
     "metadata": {},
     "output_type": "execute_result"
    }
   ],
   "source": [
    "# PCT of Biggest sector from all \n",
    "papp['المنتظمون'][papp['القطاعات']=='أ- البرامج الإعدادية العامة:'].sum()/papp['المنتظمون'].sum()"
   ]
  },
  {
   "cell_type": "code",
   "execution_count": 70,
   "metadata": {},
   "outputs": [
    {
     "data": {
      "text/plain": [
       "0.11881668283220174"
      ]
     },
     "execution_count": 70,
     "metadata": {},
     "output_type": "execute_result"
    }
   ],
   "source": [
    "# PCT of Second sector from all \n",
    "papp['المنتظمون'][papp['القطاعات'] == 'ب- البرامج الإعدادية الخاصة:'].sum()/papp['المنتظمون'].sum()"
   ]
  },
  {
   "cell_type": "code",
   "execution_count": 71,
   "metadata": {},
   "outputs": [
    {
     "data": {
      "text/plain": [
       "13849.0"
      ]
     },
     "execution_count": 71,
     "metadata": {},
     "output_type": "execute_result"
    }
   ],
   "source": [
    "# Calculating mean value of ('العدد') over the years 2007-2012\n",
    "libdoc['العدد'][libdoc['السنة'].isin(range(2007, 2013))].sum()/6"
   ]
  },
  {
   "cell_type": "code",
   "execution_count": 72,
   "metadata": {},
   "outputs": [
    {
     "data": {
      "text/plain": [
       "121547.0"
      ]
     },
     "execution_count": 72,
     "metadata": {},
     "output_type": "execute_result"
    }
   ],
   "source": [
    "# sum of ('العدد') in 2013\n",
    "libdoc['العدد'][libdoc['السنة'] == 2013].sum()"
   ]
  },
  {
   "cell_type": "code",
   "execution_count": 73,
   "metadata": {},
   "outputs": [
    {
     "data": {
      "text/plain": [
       "16758.0"
      ]
     },
     "execution_count": 73,
     "metadata": {},
     "output_type": "execute_result"
    }
   ],
   "source": [
    "# sum of ('العدد') in 2012\n",
    "libdoc['العدد'][libdoc['السنة'] == 2012].sum()"
   ]
  },
  {
   "cell_type": "code",
   "execution_count": 74,
   "metadata": {},
   "outputs": [
    {
     "data": {
      "text/plain": [
       "8.776590367535562"
      ]
     },
     "execution_count": 74,
     "metadata": {},
     "output_type": "execute_result"
    }
   ],
   "source": [
    "# Showing the raise volumn of ('العدد') between 2013 and the mean value of the previous years\n",
    "(libdoc['العدد'][libdoc['السنة'] == 2013].sum())/(libdoc['العدد'][libdoc['السنة'].isin(range(2007, 2013))].sum()/6)"
   ]
  },
  {
   "cell_type": "markdown",
   "metadata": {},
   "source": [
    "## Correlation Analysis"
   ]
  },
  {
   "cell_type": "markdown",
   "metadata": {},
   "source": [
    "### Public Trainings"
   ]
  },
  {
   "cell_type": "code",
   "execution_count": 75,
   "metadata": {},
   "outputs": [],
   "source": [
    "import seaborn as sns\n",
    "\n",
    "def corr_plt(ds):\n",
    "    fig, ax = plt.subplots(figsize=(15,10)) \n",
    "    ax = sns.heatmap(\n",
    "        ds, \n",
    "        vmin=-1, vmax=1, center=0,\n",
    "        cmap=sns.diverging_palette(20, 220, n=200),\n",
    "        square=True,\n",
    "        ax = ax\n",
    "    )\n",
    "    ax.set_xticklabels(\n",
    "        ax.get_xticklabels(),\n",
    "        rotation=45,\n",
    "        horizontalalignment='right'\n",
    "    )"
   ]
  },
  {
   "cell_type": "code",
   "execution_count": 76,
   "metadata": {},
   "outputs": [
    {
     "data": {
      "image/png": "[encoded data removed]",
      "text/plain": [
       "<Figure size 1080x720 with 2 Axes>"
      ]
     },
     "metadata": {
      "needs_background": "light"
     },
     "output_type": "display_data"
    }
   ],
   "source": [
    "corr = pub.pivot_table(values='المنتظمون', columns= 'القطاعات', index= 'السنة', fill_value=0).corr()\n",
    "corr[(corr.values < .7) & (corr.values >-0.7)] = 0\n",
    "corr_plt(corr)"
   ]
  },
  {
   "cell_type": "code",
   "execution_count": 77,
   "metadata": {},
   "outputs": [
    {
     "data": {
      "image/png": "[encoded data removed]",
      "text/plain": [
       "<Figure size 1080x720 with 2 Axes>"
      ]
     },
     "metadata": {
      "needs_background": "light"
     },
     "output_type": "display_data"
    }
   ],
   "source": [
    "corr = privt.pivot_table(values='المنتظمون', columns= 'القطاعات', index= 'السنة', fill_value=0).corr()\n",
    "corr[(corr.values < .7) & (corr.values >-0.7)] = 0\n",
    "corr_plt(corr)"
   ]
  },
  {
   "cell_type": "code",
   "execution_count": 78,
   "metadata": {},
   "outputs": [
    {
     "data": {
      "image/png": "[encoded data removed]",
      "text/plain": [
       "<Figure size 1080x720 with 2 Axes>"
      ]
     },
     "metadata": {
      "needs_background": "light"
     },
     "output_type": "display_data"
    }
   ],
   "source": [
    "corr = bus.pivot_table(values='المنتظمون', columns= 'القطاعات', index= 'السنة', fill_value=0).corr()\n",
    "corr[(corr.values < .7) & (corr.values >-0.7)] = 0\n",
    "corr_plt(corr)"
   ]
  },
  {
   "cell_type": "code",
   "execution_count": 79,
   "metadata": {},
   "outputs": [],
   "source": [
    "pub_sec = pub[['السنة', 'القطاعات', 'المنتظمون']].groupby(['القطاعات', 'السنة'])['المنتظمون'].sum().reset_index()\n",
    "privt_sec = pub[['السنة', 'القطاعات', 'المنتظمون']].groupby(['القطاعات', 'السنة'])['المنتظمون'].sum().reset_index()\n",
    "papp_sec = pub[['السنة', 'القطاعات', 'المنتظمون']].groupby(['القطاعات', 'السنة'])['المنتظمون'].sum().reset_index()\n",
    "bus_sec = pub[['السنة', 'القطاعات', 'المنتظمون']].groupby(['القطاعات', 'السنة'])['المنتظمون'].sum().reset_index()"
   ]
  },
  {
   "cell_type": "code",
   "execution_count": 80,
   "metadata": {},
   "outputs": [
    {
     "data": {
      "text/html": [
       "<div>\n",
       "<style scoped>\n",
       "    .dataframe tbody tr th:only-of-type {\n",
       "        vertical-align: middle;\n",
       "    }\n",
       "\n",
       "    .dataframe tbody tr th {\n",
       "        vertical-align: top;\n",
       "    }\n",
       "\n",
       "    .dataframe thead th {\n",
       "        text-align: right;\n",
       "    }\n",
       "</style>\n",
       "<table border=\"1\" class=\"dataframe\">\n",
       "  <thead>\n",
       "    <tr style=\"text-align: right;\">\n",
       "      <th>القطاعات</th>\n",
       "      <th>قطاع إدارة المواد:</th>\n",
       "      <th>قطاع الإحصاء:</th>\n",
       "      <th>قطاع الإدارة الصحية:</th>\n",
       "      <th>قطاع الإدارة العامة:</th>\n",
       "      <th>قطاع الإدارة المكتبية:</th>\n",
       "      <th>قطاع الإدارة الهندسية والمشروعات:</th>\n",
       "      <th>قطاع الإقتصاد والميزانية:</th>\n",
       "      <th>قطاع الحاسب الآلي:</th>\n",
       "      <th>قطاع السلوك التنظيمي:</th>\n",
       "      <th>قطاع العلاقات العامة والإعلام:</th>\n",
       "      <th>قطاع القانون:</th>\n",
       "      <th>قطاع المحاسبة:</th>\n",
       "      <th>قطاع المعلومات:</th>\n",
       "      <th>قطاع المكتبات والمعلومات:</th>\n",
       "      <th>قطاع الموارد البشرية:</th>\n",
       "      <th>قطاع تقنية المعلومات:</th>\n",
       "    </tr>\n",
       "    <tr>\n",
       "      <th>السنة</th>\n",
       "      <th></th>\n",
       "      <th></th>\n",
       "      <th></th>\n",
       "      <th></th>\n",
       "      <th></th>\n",
       "      <th></th>\n",
       "      <th></th>\n",
       "      <th></th>\n",
       "      <th></th>\n",
       "      <th></th>\n",
       "      <th></th>\n",
       "      <th></th>\n",
       "      <th></th>\n",
       "      <th></th>\n",
       "      <th></th>\n",
       "      <th></th>\n",
       "    </tr>\n",
       "  </thead>\n",
       "  <tbody>\n",
       "    <tr>\n",
       "      <td>2007</td>\n",
       "      <td>1705.0</td>\n",
       "      <td>1272.0</td>\n",
       "      <td>919.0</td>\n",
       "      <td>5327.0</td>\n",
       "      <td>13307.0</td>\n",
       "      <td>1355.0</td>\n",
       "      <td>542.0</td>\n",
       "      <td>2071.0</td>\n",
       "      <td>5071.0</td>\n",
       "      <td>1070.0</td>\n",
       "      <td>1423.0</td>\n",
       "      <td>2643.0</td>\n",
       "      <td>NaN</td>\n",
       "      <td>1097.0</td>\n",
       "      <td>3928.0</td>\n",
       "      <td>NaN</td>\n",
       "    </tr>\n",
       "    <tr>\n",
       "      <td>2008</td>\n",
       "      <td>1918.0</td>\n",
       "      <td>1462.0</td>\n",
       "      <td>908.0</td>\n",
       "      <td>6682.0</td>\n",
       "      <td>13695.0</td>\n",
       "      <td>1316.0</td>\n",
       "      <td>804.0</td>\n",
       "      <td>2385.0</td>\n",
       "      <td>6456.0</td>\n",
       "      <td>860.0</td>\n",
       "      <td>1720.0</td>\n",
       "      <td>3056.0</td>\n",
       "      <td>NaN</td>\n",
       "      <td>1190.0</td>\n",
       "      <td>3542.0</td>\n",
       "      <td>NaN</td>\n",
       "    </tr>\n",
       "    <tr>\n",
       "      <td>2009</td>\n",
       "      <td>2424.0</td>\n",
       "      <td>1674.0</td>\n",
       "      <td>1317.0</td>\n",
       "      <td>7286.0</td>\n",
       "      <td>10224.0</td>\n",
       "      <td>1541.0</td>\n",
       "      <td>720.0</td>\n",
       "      <td>3107.0</td>\n",
       "      <td>5266.0</td>\n",
       "      <td>906.0</td>\n",
       "      <td>2576.0</td>\n",
       "      <td>3430.0</td>\n",
       "      <td>NaN</td>\n",
       "      <td>1306.0</td>\n",
       "      <td>3482.0</td>\n",
       "      <td>NaN</td>\n",
       "    </tr>\n",
       "    <tr>\n",
       "      <td>2010</td>\n",
       "      <td>2145.0</td>\n",
       "      <td>1858.0</td>\n",
       "      <td>1000.0</td>\n",
       "      <td>5634.0</td>\n",
       "      <td>10792.0</td>\n",
       "      <td>1657.0</td>\n",
       "      <td>842.0</td>\n",
       "      <td>3247.0</td>\n",
       "      <td>4071.0</td>\n",
       "      <td>1423.0</td>\n",
       "      <td>2424.0</td>\n",
       "      <td>2993.0</td>\n",
       "      <td>NaN</td>\n",
       "      <td>1887.0</td>\n",
       "      <td>2942.0</td>\n",
       "      <td>NaN</td>\n",
       "    </tr>\n",
       "    <tr>\n",
       "      <td>2011</td>\n",
       "      <td>1886.0</td>\n",
       "      <td>2164.0</td>\n",
       "      <td>1732.0</td>\n",
       "      <td>6045.0</td>\n",
       "      <td>13651.0</td>\n",
       "      <td>1727.0</td>\n",
       "      <td>902.0</td>\n",
       "      <td>3438.0</td>\n",
       "      <td>4795.0</td>\n",
       "      <td>1341.0</td>\n",
       "      <td>1993.0</td>\n",
       "      <td>3909.0</td>\n",
       "      <td>NaN</td>\n",
       "      <td>2042.0</td>\n",
       "      <td>2945.0</td>\n",
       "      <td>NaN</td>\n",
       "    </tr>\n",
       "    <tr>\n",
       "      <td>2012</td>\n",
       "      <td>2878.0</td>\n",
       "      <td>2451.0</td>\n",
       "      <td>1623.0</td>\n",
       "      <td>7519.0</td>\n",
       "      <td>12713.0</td>\n",
       "      <td>2794.0</td>\n",
       "      <td>983.0</td>\n",
       "      <td>2746.0</td>\n",
       "      <td>5528.0</td>\n",
       "      <td>857.0</td>\n",
       "      <td>2240.0</td>\n",
       "      <td>3870.0</td>\n",
       "      <td>NaN</td>\n",
       "      <td>2195.0</td>\n",
       "      <td>4962.0</td>\n",
       "      <td>NaN</td>\n",
       "    </tr>\n",
       "    <tr>\n",
       "      <td>2013</td>\n",
       "      <td>3171.0</td>\n",
       "      <td>3165.0</td>\n",
       "      <td>2348.0</td>\n",
       "      <td>9944.0</td>\n",
       "      <td>16744.0</td>\n",
       "      <td>2602.0</td>\n",
       "      <td>1475.0</td>\n",
       "      <td>4500.0</td>\n",
       "      <td>7957.0</td>\n",
       "      <td>1545.0</td>\n",
       "      <td>2738.0</td>\n",
       "      <td>5669.0</td>\n",
       "      <td>NaN</td>\n",
       "      <td>2941.0</td>\n",
       "      <td>6502.0</td>\n",
       "      <td>NaN</td>\n",
       "    </tr>\n",
       "    <tr>\n",
       "      <td>2014</td>\n",
       "      <td>3647.0</td>\n",
       "      <td>4290.0</td>\n",
       "      <td>2504.0</td>\n",
       "      <td>10044.0</td>\n",
       "      <td>16867.0</td>\n",
       "      <td>2156.0</td>\n",
       "      <td>1846.0</td>\n",
       "      <td>7028.0</td>\n",
       "      <td>9071.0</td>\n",
       "      <td>1637.0</td>\n",
       "      <td>3216.0</td>\n",
       "      <td>6271.0</td>\n",
       "      <td>NaN</td>\n",
       "      <td>2808.0</td>\n",
       "      <td>7699.0</td>\n",
       "      <td>NaN</td>\n",
       "    </tr>\n",
       "    <tr>\n",
       "      <td>2015</td>\n",
       "      <td>4840.0</td>\n",
       "      <td>4655.0</td>\n",
       "      <td>1747.0</td>\n",
       "      <td>13710.0</td>\n",
       "      <td>20380.0</td>\n",
       "      <td>2199.0</td>\n",
       "      <td>1943.0</td>\n",
       "      <td>7670.0</td>\n",
       "      <td>15193.0</td>\n",
       "      <td>2731.0</td>\n",
       "      <td>4207.0</td>\n",
       "      <td>8720.0</td>\n",
       "      <td>NaN</td>\n",
       "      <td>2667.0</td>\n",
       "      <td>8730.0</td>\n",
       "      <td>NaN</td>\n",
       "    </tr>\n",
       "    <tr>\n",
       "      <td>2016</td>\n",
       "      <td>3417.0</td>\n",
       "      <td>3072.0</td>\n",
       "      <td>1298.0</td>\n",
       "      <td>12732.0</td>\n",
       "      <td>32892.0</td>\n",
       "      <td>2646.0</td>\n",
       "      <td>1719.0</td>\n",
       "      <td>NaN</td>\n",
       "      <td>18509.0</td>\n",
       "      <td>2849.0</td>\n",
       "      <td>3639.0</td>\n",
       "      <td>8070.0</td>\n",
       "      <td>1426.0</td>\n",
       "      <td>NaN</td>\n",
       "      <td>4631.0</td>\n",
       "      <td>6680.0</td>\n",
       "    </tr>\n",
       "  </tbody>\n",
       "</table>\n",
       "</div>"
      ],
      "text/plain": [
       "القطاعات  قطاع إدارة المواد:  قطاع الإحصاء:  قطاع الإدارة الصحية:  \\\n",
       "السنة                                                               \n",
       "2007                  1705.0         1272.0                 919.0   \n",
       "2008                  1918.0         1462.0                 908.0   \n",
       "2009                  2424.0         1674.0                1317.0   \n",
       "2010                  2145.0         1858.0                1000.0   \n",
       "2011                  1886.0         2164.0                1732.0   \n",
       "2012                  2878.0         2451.0                1623.0   \n",
       "2013                  3171.0         3165.0                2348.0   \n",
       "2014                  3647.0         4290.0                2504.0   \n",
       "2015                  4840.0         4655.0                1747.0   \n",
       "2016                  3417.0         3072.0                1298.0   \n",
       "\n",
       "القطاعات  قطاع الإدارة العامة:  قطاع الإدارة المكتبية:  \\\n",
       "السنة                                                    \n",
       "2007                    5327.0                 13307.0   \n",
       "2008                    6682.0                 13695.0   \n",
       "2009                    7286.0                 10224.0   \n",
       "2010                    5634.0                 10792.0   \n",
       "2011                    6045.0                 13651.0   \n",
       "2012                    7519.0                 12713.0   \n",
       "2013                    9944.0                 16744.0   \n",
       "2014                   10044.0                 16867.0   \n",
       "2015                   13710.0                 20380.0   \n",
       "2016                   12732.0                 32892.0   \n",
       "\n",
       "القطاعات  قطاع الإدارة الهندسية والمشروعات:  قطاع الإقتصاد والميزانية:  \\\n",
       "السنة                                                                    \n",
       "2007                                 1355.0                      542.0   \n",
       "2008                                 1316.0                      804.0   \n",
       "2009                                 1541.0                      720.0   \n",
       "2010                                 1657.0                      842.0   \n",
       "2011                                 1727.0                      902.0   \n",
       "2012                                 2794.0                      983.0   \n",
       "2013                                 2602.0                     1475.0   \n",
       "2014                                 2156.0                     1846.0   \n",
       "2015                                 2199.0                     1943.0   \n",
       "2016                                 2646.0                     1719.0   \n",
       "\n",
       "القطاعات  قطاع الحاسب الآلي:  قطاع السلوك التنظيمي:  \\\n",
       "السنة                                                 \n",
       "2007                  2071.0                 5071.0   \n",
       "2008                  2385.0                 6456.0   \n",
       "2009                  3107.0                 5266.0   \n",
       "2010                  3247.0                 4071.0   \n",
       "2011                  3438.0                 4795.0   \n",
       "2012                  2746.0                 5528.0   \n",
       "2013                  4500.0                 7957.0   \n",
       "2014                  7028.0                 9071.0   \n",
       "2015                  7670.0                15193.0   \n",
       "2016                     NaN                18509.0   \n",
       "\n",
       "القطاعات  قطاع العلاقات العامة والإعلام:  قطاع القانون:  قطاع المحاسبة:  \\\n",
       "السنة                                                                     \n",
       "2007                              1070.0         1423.0          2643.0   \n",
       "2008                               860.0         1720.0          3056.0   \n",
       "2009                               906.0         2576.0          3430.0   \n",
       "2010                              1423.0         2424.0          2993.0   \n",
       "2011                              1341.0         1993.0          3909.0   \n",
       "2012                               857.0         2240.0          3870.0   \n",
       "2013                              1545.0         2738.0          5669.0   \n",
       "2014                              1637.0         3216.0          6271.0   \n",
       "2015                              2731.0         4207.0          8720.0   \n",
       "2016                              2849.0         3639.0          8070.0   \n",
       "\n",
       "القطاعات  قطاع المعلومات:  قطاع المكتبات والمعلومات:  قطاع الموارد البشرية:  \\\n",
       "السنة                                                                         \n",
       "2007                  NaN                     1097.0                 3928.0   \n",
       "2008                  NaN                     1190.0                 3542.0   \n",
       "2009                  NaN                     1306.0                 3482.0   \n",
       "2010                  NaN                     1887.0                 2942.0   \n",
       "2011                  NaN                     2042.0                 2945.0   \n",
       "2012                  NaN                     2195.0                 4962.0   \n",
       "2013                  NaN                     2941.0                 6502.0   \n",
       "2014                  NaN                     2808.0                 7699.0   \n",
       "2015                  NaN                     2667.0                 8730.0   \n",
       "2016               1426.0                        NaN                 4631.0   \n",
       "\n",
       "القطاعات  قطاع تقنية المعلومات:  \n",
       "السنة                            \n",
       "2007                        NaN  \n",
       "2008                        NaN  \n",
       "2009                        NaN  \n",
       "2010                        NaN  \n",
       "2011                        NaN  \n",
       "2012                        NaN  \n",
       "2013                        NaN  \n",
       "2014                        NaN  \n",
       "2015                        NaN  \n",
       "2016                     6680.0  "
      ]
     },
     "execution_count": 80,
     "metadata": {},
     "output_type": "execute_result"
    }
   ],
   "source": [
    "privt_sec.pivot_table(columns='القطاعات', values='المنتظمون', index= 'السنة')"
   ]
  },
  {
   "cell_type": "markdown",
   "metadata": {},
   "source": [
    "# Prediction"
   ]
  },
  {
   "cell_type": "markdown",
   "metadata": {},
   "source": [
    "Prediction will be done for 3 Training Programs: <br>\n",
    "- Training Programs for public\n",
    "- Training Programs for private\n",
    "- Training Programs for prepatory"
   ]
  },
  {
   "cell_type": "markdown",
   "metadata": {},
   "source": [
    "### Predicting Num of Joiners in Public Training "
   ]
  },
  {
   "cell_type": "code",
   "execution_count": 117,
   "metadata": {},
   "outputs": [
    {
     "name": "stdout",
     "output_type": "stream",
     "text": [
      "Public Training Students for 2017 Utilizing Mean =  63118.40\n",
      "predicted [[109068.64862706]\n",
      " [135831.08298957]]\n",
      "Actual [ 99392. 103580.]\n",
      "LR R^2 =  -128.28304304328503\n",
      "Num Pubulic Training for 2017 utilizing LR =  [[161744.3897675]]\n",
      "------------------------------------------------------------\n",
      "predicted [50965.81940649 50965.78025157]\n",
      "Actual [ 99392. 103580.]\n",
      "svr R^2 =  -582.0721019682353\n",
      "Num Pubulic Training for 2017 utilizing SVM =  [50965.78024699]\n",
      "------------------------------------------------------------\n",
      "predicted [74725.741 74725.741]\n",
      "Actual [ 99392. 103580.]\n",
      "RF R^2 =  -163.3154493684784\n",
      "Num Pubulic Training for 2017 utilizing RF=  [74725.741]\n",
      "------------------------------------------------------------\n",
      "Lowest Model parameters are:  ((1, 2, 0), 128.02747800205842)\n",
      "AIC =  128.02747800205842\n",
      "Num Pubulic Training for 2017 =  131624.60\n"
     ]
    },
    {
     "data": {
      "image/png": "[encoded data removed]",
      "text/plain": [
       "<Figure size 432x288 with 1 Axes>"
      ]
     },
     "metadata": {
      "needs_background": "light"
     },
     "output_type": "display_data"
    }
   ],
   "source": [
    "pub_yr = pub[['السنة', 'المنتظمون']].groupby(['السنة'])['المنتظمون'].sum().reset_index()\n",
    "\n",
    "#Utilizing Mean\n",
    "print('Public Training Students for 2017 Utilizing Mean = ', '{:.2F}'.format(pub_yr['المنتظمون'].mean()))\n",
    "\n",
    "\n",
    "# Perform Forecasting By converting Time Series to Supervised Learning\n",
    "pub_yr = pub[['السنة', 'المنتظمون']].groupby(['السنة'])['المنتظمون'].sum().reset_index()\n",
    "pub_yr.set_index('السنة', inplace=True)\n",
    "\n",
    "#Framing data to enable forecasting time series as supervised learning - Linear Regression & SVM are utilized\n",
    "shifted_pub_yr = pub_yr.copy()\n",
    "shifted_pub_yr['y-1'] = shifted_pub_yr['المنتظمون'].shift(1)\n",
    "shifted_pub_yr['y+1'] = shifted_pub_yr['المنتظمون'].shift(-1)\n",
    "shifted_pub_yr.dropna(how='any', inplace=True)\n",
    "\n",
    "#Splitting data for training and testing\n",
    "X = shifted_pub_yr.iloc[:, : -1].values\n",
    "y = shifted_pub_yr.iloc[:, -1:].values\n",
    "X_train, X_test, y_train, y_test = X[:-2], X[-2:], y[:-2], y[-2:]\n",
    "\n",
    "\n",
    "#Apply Linear Regression Prediction (Forecasting)\n",
    "from sklearn.linear_model import LinearRegression\n",
    "lr = LinearRegression()\n",
    "lr.fit(X_train, y_train)\n",
    "lr.predict(X_test)\n",
    "print('predicted', lr.predict(X_test))\n",
    "print('Actual', y_test.ravel())\n",
    "print('LR R^2 = ', lr.score(X_test, y_test))\n",
    "#Financial Accounting Forecasting for 2018\n",
    "print('Num Pubulic Training for 2017 utilizing LR = ', lr.predict([[103580.0, 99392.0]]))\n",
    "print ('------------------------------------------------------------')\n",
    "\n",
    "\n",
    "\n",
    "#Apply SVM Prediction (Forecasting)\n",
    "from sklearn.svm import SVR\n",
    "svr = SVR(gamma='scale', C=1, kernel='rbf')\n",
    "svr.fit(X_train, y_train.ravel())\n",
    "print('predicted', svr.predict(X_test))\n",
    "print('Actual', y_test.ravel())\n",
    "print('svr R^2 = ', svr.score(X_test, y_test.ravel()))\n",
    "#Financial Accounting Forecasting for 2018\n",
    "print('Num Pubulic Training for 2017 utilizing SVM = ', svr.predict([[103580.0, 99392.0]]))\n",
    "print ('------------------------------------------------------------')\n",
    "\n",
    "\n",
    "#Apply Randomforest Prediction (Forecasting)\n",
    "from sklearn.ensemble import RandomForestRegressor\n",
    "rfr = RandomForestRegressor(n_estimators=1000, max_depth=2, random_state=42)\n",
    "rfr.fit(X_train, y_train.ravel())\n",
    "print('predicted', rfr.predict(X_test))\n",
    "print('Actual', y_test.ravel())\n",
    "print('RF R^2 = ', rfr.score(X_test, y_test.ravel()))\n",
    "#Financial Accounting Forecasting for 2018\n",
    "print('Num Pubulic Training for 2017 utilizing RF= ', rfr.predict([[103580.0, 99392.0]]))\n",
    "print ('------------------------------------------------------------')\n",
    "\n",
    "\n",
    "#Perform Forecasting Using Time Series ARIMA Model\n",
    "from statsmodels.tsa.arima_model import ARIMA\n",
    "import matplotlib.pyplot as plt\n",
    "%matplotlib inline\n",
    "\n",
    "#devide data for train and test\n",
    "X = pub_yr.values\n",
    "X_train, X_test= X[:-2], X[-2:]\n",
    "X_train = X_train.ravel().astype('float32')\n",
    "X_test = X_test.ravel().astype('float32')\n",
    "predictions = []\n",
    "\n",
    "\n",
    "#Find best combinations between p,d,q\n",
    "import itertools\n",
    "import warnings\n",
    "warnings.filterwarnings('ignore')\n",
    "p=d=q= range(0,5)\n",
    "pdq = list(itertools.product(p,d,q))\n",
    "comb = []\n",
    "for parm in pdq:\n",
    "    try:\n",
    "        arima_mod = ARIMA(X_train, order = parm)\n",
    "        arima_mod_fit = arima_mod.fit()\n",
    "        comb.append((parm, arima_mod_fit.aic))\n",
    "    except:\n",
    "        continue\n",
    "        \n",
    "lowest=[(0,0,0), 100000]\n",
    "for i, v in enumerate(comb):\n",
    "    if comb[i][1] < lowest[1]:\n",
    "        lowest = comb[i]\n",
    "        \n",
    "print('Lowest Model parameters are: ', lowest)\n",
    "\n",
    "\n",
    "#Selecting best model and perform forecasting\n",
    "arima_mod = ARIMA(X_train, order= lowest[0])\n",
    "arima_mod_fit = arima_mod.fit()\n",
    "print('AIC = ', arima_mod_fit.aic)\n",
    "\n",
    "#predictions\n",
    "predictions = arima_mod_fit.forecast(steps = 3)[0]\n",
    "\n",
    "plt.xticks(range(0,3), range(2015, 2018))\n",
    "plt.plot(X_test, 'b-+', label= 'Actual')\n",
    "plt.plot(predictions, 'r-*', label= 'Prediction')\n",
    "plt.legend();\n",
    "\n",
    "print('Num Pubulic Training for 2017 = ', '{:.2F}'.format(predictions[2]))"
   ]
  },
  {
   "cell_type": "markdown",
   "metadata": {},
   "source": [
    "### Predicting Num of Joiners in Private Training "
   ]
  },
  {
   "cell_type": "code",
   "execution_count": 133,
   "metadata": {},
   "outputs": [
    {
     "name": "stdout",
     "output_type": "stream",
     "text": [
      "Private Training Students for 2017 Utilizing Mean =  1658.50\n",
      "predicted [[1990.89150131]\n",
      " [2118.0546314 ]]\n",
      "Actual [1170.  681.]\n",
      "LR R^2 =  -21.908810773998226\n",
      "Num Private Training for 2017 utilizing LR =  [[2223.66979969]]\n",
      "------------------------------------------------------------\n",
      "predicted [1820.0581791  1819.49484088]\n",
      "Actual [1170.  681.]\n",
      "svr R^2 =  -13.375534887694482\n",
      "Num Private Training for 2017 utilizing SVM =  [1819.3898602]\n",
      "------------------------------------------------------------\n",
      "predicted [2020.8415 2020.8415]\n",
      "Actual [1170.  681.]\n",
      "RF R^2 =  -20.06972205071491\n",
      "Num Private Training for 2017 utilizing RF=  [2020.8415]\n",
      "------------------------------------------------------------\n",
      "Lowest Model parameters are:  ((0, 2, 1), 95.28291718447392)\n",
      "AIC =  95.28291718447392\n",
      "Num Private Training for 2017 =  662.40\n"
     ]
    },
    {
     "data": {
      "image/png": "[encoded data removed]",
      "text/plain": [
       "<Figure size 432x288 with 1 Axes>"
      ]
     },
     "metadata": {
      "needs_background": "light"
     },
     "output_type": "display_data"
    }
   ],
   "source": [
    "privt_yr = privt[['السنة', 'المنتظمون']].groupby(['السنة'])['المنتظمون'].sum().reset_index()\n",
    "privt_yr.set_index('السنة', inplace=True)\n",
    "\n",
    "\n",
    "#Utilizing Mean\n",
    "print('Private Training Students for 2017 Utilizing Mean = ', '{:.2F}'.format(privt_yr['المنتظمون'].mean()))\n",
    "\n",
    "# Perform Forecasting By converting Time Series to Supervised Learning\n",
    "\n",
    "#Framing data to enable forecasting time series as supervised learning - Linear Regression & SVM are utilized\n",
    "shifted_privt_yr = privt_yr.copy()\n",
    "shifted_privt_yr['y-1'] = shifted_privt_yr['المنتظمون'].shift(1)\n",
    "shifted_privt_yr['y+1'] = shifted_privt_yr['المنتظمون'].shift(-1)\n",
    "shifted_privt_yr.dropna(how='any', inplace=True)\n",
    "\n",
    "#Splitting data for training and testing\n",
    "X = shifted_privt_yr.iloc[:, : -1].values\n",
    "y = shifted_privt_yr.iloc[:, -1:].values\n",
    "X_train, X_test, y_train, y_test = X[:-2], X[-2:], y[:-2], y[-2:]\n",
    "\n",
    "\n",
    "#Framing data to enable forecasting time series as supervised learning - Linear Regression & SVM are utilized\n",
    "shifted_privt_yr = privt_yr.copy()\n",
    "shifted_privt_yr['y-1'] = shifted_privt_yr['المنتظمون'].shift(1)\n",
    "shifted_privt_yr['y+1'] = shifted_privt_yr['المنتظمون'].shift(-1)\n",
    "shifted_privt_yr.dropna(how='any', inplace=True)\n",
    "\n",
    "#Splitting data for training and testing\n",
    "X = shifted_privt_yr.iloc[:, : -1].values\n",
    "y = shifted_privt_yr.iloc[:, -1:].values\n",
    "X_train, X_test, y_train, y_test = X[:-2], X[-2:], y[:-2], y[-2:]\n",
    "\n",
    "\n",
    "#Apply Linear Regression Prediction (Forecasting)\n",
    "from sklearn.linear_model import LinearRegression\n",
    "lr = LinearRegression()\n",
    "lr.fit(X_train, y_train)\n",
    "lr.predict(X_test)\n",
    "print('predicted', lr.predict(X_test))\n",
    "print('Actual', y_test.ravel())\n",
    "print('LR R^2 = ', lr.score(X_test, y_test))\n",
    "#Financial Accounting Forecasting for 2018\n",
    "print('Num Private Training for 2017 utilizing LR = ', lr.predict([[681.0, 1170.0]]))\n",
    "print ('------------------------------------------------------------')\n",
    "\n",
    "\n",
    "\n",
    "#Apply SVM Prediction (Forecasting)\n",
    "from sklearn.svm import SVR\n",
    "svr = SVR(gamma='scale', C=1, kernel='rbf')\n",
    "svr.fit(X_train, y_train.ravel())\n",
    "print('predicted', svr.predict(X_test))\n",
    "print('Actual', y_test.ravel())\n",
    "print('svr R^2 = ', svr.score(X_test, y_test.ravel()))\n",
    "#Financial Accounting Forecasting for 2018\n",
    "print('Num Private Training for 2017 utilizing SVM = ', svr.predict([[681.0, 1170.0]]))\n",
    "print ('------------------------------------------------------------')\n",
    "\n",
    "\n",
    "#Apply Randomforest Prediction (Forecasting)\n",
    "from sklearn.ensemble import RandomForestRegressor\n",
    "rfr = RandomForestRegressor(n_estimators=1000, max_depth=2, random_state=42)\n",
    "rfr.fit(X_train, y_train.ravel())\n",
    "print('predicted', rfr.predict(X_test))\n",
    "print('Actual', y_test.ravel())\n",
    "print('RF R^2 = ', rfr.score(X_test, y_test.ravel()))\n",
    "#Financial Accounting Forecasting for 2018\n",
    "print('Num Private Training for 2017 utilizing RF= ', rfr.predict([[681.0, 1170.0]]))\n",
    "print ('------------------------------------------------------------')\n",
    "\n",
    "\n",
    "#Perform Forecasting Using Time Series ARIMA Model\n",
    "from statsmodels.tsa.arima_model import ARIMA\n",
    "import matplotlib.pyplot as plt\n",
    "%matplotlib inline\n",
    "\n",
    "#devide data for train and test\n",
    "X = privt_yr.values\n",
    "X_train, X_test= X[:-2], X[-2:]\n",
    "X_train = X_train.ravel().astype('float32')\n",
    "X_test = X_test.ravel().astype('float32')\n",
    "predictions = []\n",
    "\n",
    "\n",
    "#Find best combinations between p,d,q\n",
    "import itertools\n",
    "import warnings\n",
    "warnings.filterwarnings('ignore')\n",
    "p=d=q= range(0,5)\n",
    "pdq = list(itertools.product(p,d,q))\n",
    "comb = []\n",
    "for parm in pdq:\n",
    "    try:\n",
    "        arima_mod = ARIMA(X_train, order = parm)\n",
    "        arima_mod_fit = arima_mod.fit()\n",
    "        comb.append((parm, arima_mod_fit.aic))\n",
    "    except:\n",
    "        continue\n",
    "        \n",
    "lowest=[(0,0,0), 100000]\n",
    "for i, v in enumerate(comb):\n",
    "    if comb[i][1] < lowest[1]:\n",
    "        lowest = comb[i]\n",
    "        \n",
    "print('Lowest Model parameters are: ', lowest)\n",
    "\n",
    "\n",
    "#Selecting best model and perform forecasting\n",
    "arima_mod = ARIMA(X_train, order= lowest[0])\n",
    "arima_mod_fit = arima_mod.fit()\n",
    "print('AIC = ', arima_mod_fit.aic)\n",
    "\n",
    "#predictions\n",
    "predictions = arima_mod_fit.forecast(steps = 3)[0]\n",
    "\n",
    "plt.xticks(range(0,3), range(2015, 2018))\n",
    "plt.plot(X_test, 'b-+', label= 'Actual')\n",
    "plt.plot(predictions, 'r-*', label= 'Prediction')\n",
    "plt.legend();\n",
    "\n",
    "print('Num Private Training for 2017 = ', '{:.2F}'.format(predictions[2]))"
   ]
  },
  {
   "cell_type": "markdown",
   "metadata": {},
   "source": [
    "### Predicting Num of Joiners in Preparatory Training "
   ]
  },
  {
   "cell_type": "code",
   "execution_count": 134,
   "metadata": {},
   "outputs": [
    {
     "name": "stdout",
     "output_type": "stream",
     "text": [
      "Private Training Students for 2017 Utilizing Mean =  1443.40\n",
      "Preparatory Training Students for 2017 Utilizing Mean =  1443.40\n",
      "predicted [[1542.6127853 ]\n",
      " [1378.10685287]]\n",
      "Actual [1645. 1284.]\n",
      "LR R^2 =  0.7032060605567231\n",
      "Num Preparatory Training for 2017 utilizing LR =  [[1519.72362514]]\n",
      "------------------------------------------------------------\n",
      "predicted [1392.5680628  1389.86808809]\n",
      "Actual [1645. 1284.]\n",
      "svr R^2 =  -0.14992879111349566\n",
      "Num Preparatory Training for 2017 utilizing SVM =  [1391.40255046]\n",
      "------------------------------------------------------------\n",
      "predicted [1517.7885  1422.85925]\n",
      "Actual [1645. 1284.]\n",
      "RF R^2 =  0.4557338104708746\n",
      "Num Preparatory Training for 2017 utilizing RF=  [1476.53983333]\n",
      "------------------------------------------------------------\n",
      "Lowest Model parameters are:  ((4, 1, 1), 80.89083395695293)\n",
      "AIC =  80.89083395695293\n",
      "Num Preparatory Training for 2017 =  1831.72\n"
     ]
    },
    {
     "data": {
      "image/png": "[encoded data removed]",
      "text/plain": [
       "<Figure size 432x288 with 1 Axes>"
      ]
     },
     "metadata": {
      "needs_background": "light"
     },
     "output_type": "display_data"
    }
   ],
   "source": [
    "papp_yr = papp[['السنة', 'المنتظمون']].groupby(['السنة'])['المنتظمون'].sum().reset_index()\n",
    "\n",
    "#Utilizing Mean\n",
    "print('Private Training Students for 2017 Utilizing Mean = ', '{:.2F}'.format(papp_yr['المنتظمون'].mean()))\n",
    "\n",
    "\n",
    "# Perform Forecasting By converting Time Series to Supervised Learning\n",
    "papp_yr.set_index('السنة', inplace=True)\n",
    "\n",
    "#Framing data to enable forecasting time series as supervised learning - Linear Regression & SVM are utilized\n",
    "shifted_papp_yr = papp_yr.copy()\n",
    "shifted_papp_yr['y-1'] = shifted_papp_yr['المنتظمون'].shift(1)\n",
    "shifted_papp_yr['y+1'] = shifted_papp_yr['المنتظمون'].shift(-1)\n",
    "shifted_papp_yr.dropna(how='any', inplace=True)\n",
    "\n",
    "#Splitting data for training and testing\n",
    "X = shifted_papp_yr.iloc[:, : -1].values\n",
    "y = shifted_papp_yr.iloc[:, -1:].values\n",
    "X_train, X_test, y_train, y_test = X[:-2], X[-2:], y[:-2], y[-2:]\n",
    "\n",
    "\n",
    "#Utilizing Mean\n",
    "print('Preparatory Training Students for 2017 Utilizing Mean = ', '{:.2F}'.format(papp_yr['المنتظمون'].mean()))\n",
    "\n",
    "\n",
    "# Perform Forecasting By converting Time Series to Supervised Learning\n",
    "\n",
    "#Framing data to enable forecasting time series as supervised learning - Linear Regression & SVM are utilized\n",
    "shifted_papp_yr = papp_yr.copy()\n",
    "shifted_papp_yr['y-1'] = shifted_papp_yr['المنتظمون'].shift(1)\n",
    "shifted_papp_yr['y+1'] = shifted_papp_yr['المنتظمون'].shift(-1)\n",
    "shifted_papp_yr.dropna(how='any', inplace=True)\n",
    "\n",
    "#Splitting data for training and testing\n",
    "X = shifted_papp_yr.iloc[:, : -1].values\n",
    "y = shifted_papp_yr.iloc[:, -1:].values\n",
    "X_train, X_test, y_train, y_test = X[:-2], X[-2:], y[:-2], y[-2:]\n",
    "\n",
    "\n",
    "#Apply Linear Regression Prediction (Forecasting)\n",
    "from sklearn.linear_model import LinearRegression\n",
    "lr = LinearRegression()\n",
    "lr.fit(X_train, y_train)\n",
    "lr.predict(X_test)\n",
    "print('predicted', lr.predict(X_test))\n",
    "print('Actual', y_test.ravel())\n",
    "print('LR R^2 = ', lr.score(X_test, y_test))\n",
    "#Financial Accounting Forecasting for 2018\n",
    "print('Num Preparatory Training for 2017 utilizing LR = ', lr.predict([[1284.0, 1645.0]]))\n",
    "print ('------------------------------------------------------------')\n",
    "\n",
    "\n",
    "\n",
    "#Apply SVM Prediction (Forecasting)\n",
    "from sklearn.svm import SVR\n",
    "svr = SVR(gamma='scale', C=1, kernel='rbf')\n",
    "svr.fit(X_train, y_train.ravel())\n",
    "print('predicted', svr.predict(X_test))\n",
    "print('Actual', y_test.ravel())\n",
    "print('svr R^2 = ', svr.score(X_test, y_test.ravel()))\n",
    "#Financial Accounting Forecasting for 2018\n",
    "print('Num Preparatory Training for 2017 utilizing SVM = ', svr.predict([[1284.0, 1645.0]]))\n",
    "print ('------------------------------------------------------------')\n",
    "\n",
    "\n",
    "#Apply Randomforest Prediction (Forecasting)\n",
    "from sklearn.ensemble import RandomForestRegressor\n",
    "rfr = RandomForestRegressor(n_estimators=1000, max_depth=2, random_state=42)\n",
    "rfr.fit(X_train, y_train.ravel())\n",
    "print('predicted', rfr.predict(X_test))\n",
    "print('Actual', y_test.ravel())\n",
    "print('RF R^2 = ', rfr.score(X_test, y_test.ravel()))\n",
    "#Financial Accounting Forecasting for 2018\n",
    "print('Num Preparatory Training for 2017 utilizing RF= ', rfr.predict([[1284.0, 1645.0]]))\n",
    "print ('------------------------------------------------------------')\n",
    "\n",
    "\n",
    "#Perform Forecasting Using Time Series ARIMA Model\n",
    "from statsmodels.tsa.arima_model import ARIMA\n",
    "import matplotlib.pyplot as plt\n",
    "%matplotlib inline\n",
    "\n",
    "#devide data for train and test\n",
    "X = papp_yr.values\n",
    "X_train, X_test= X[:-2], X[-2:]\n",
    "X_train = X_train.ravel().astype('float32')\n",
    "X_test = X_test.ravel().astype('float32')\n",
    "predictions = []\n",
    "\n",
    "\n",
    "#Find best combinations between p,d,q\n",
    "import itertools\n",
    "import warnings\n",
    "warnings.filterwarnings('ignore')\n",
    "p=d=q= range(0,5)\n",
    "pdq = list(itertools.product(p,d,q))\n",
    "comb = []\n",
    "for parm in pdq:\n",
    "    try:\n",
    "        arima_mod = ARIMA(X_train, order = parm)\n",
    "        arima_mod_fit = arima_mod.fit()\n",
    "        comb.append((parm, arima_mod_fit.aic))\n",
    "    except:\n",
    "        continue\n",
    "        \n",
    "lowest=[(0,0,0), 100000]\n",
    "for i, v in enumerate(comb):\n",
    "    if comb[i][1] < lowest[1]:\n",
    "        lowest = comb[i]\n",
    "        \n",
    "print('Lowest Model parameters are: ', lowest)\n",
    "\n",
    "\n",
    "#Selecting best model and perform forecasting\n",
    "arima_mod = ARIMA(X_train, order= lowest[0])\n",
    "arima_mod_fit = arima_mod.fit()\n",
    "print('AIC = ', arima_mod_fit.aic)\n",
    "\n",
    "#predictions\n",
    "predictions = arima_mod_fit.forecast(steps = 3)[0]\n",
    "\n",
    "plt.xticks(range(0,3), range(2015, 2018))\n",
    "plt.plot(X_test, 'b-+', label= 'Actual')\n",
    "plt.plot(predictions, 'r-*', label= 'Prediction')\n",
    "plt.legend();\n",
    "\n",
    "print('Num Preparatory Training for 2017 = ', '{:.2F}'.format(predictions[2]))"
   ]
  }
 ],
 "metadata": {
  "kernelspec": {
   "display_name": "Python 3",
   "language": "python",
   "name": "python3"
  },
  "language_info": {
   "codemirror_mode": {
    "name": "ipython",
    "version": 3
   },
   "file_extension": ".py",
   "mimetype": "text/x-python",
   "name": "python",
   "nbconvert_exporter": "python",
   "pygments_lexer": "ipython3",
   "version": "3.7.3"
  }
 },
 "nbformat": 4,
 "nbformat_minor": 4
}
